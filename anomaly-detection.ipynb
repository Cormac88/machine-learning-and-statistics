{
 "cells": [
  {
   "cell_type": "markdown",
   "id": "84536fba",
   "metadata": {},
   "source": [
    "# Anomaly Detection using Keras\n",
    "\n",
    "***"
   ]
  },
  {
   "cell_type": "markdown",
   "id": "86e79962",
   "metadata": {},
   "source": [
    "## Evaluation\n",
    "\n",
    "***"
   ]
  },
  {
   "cell_type": "markdown",
   "id": "e6e4210c",
   "metadata": {},
   "source": [
    "https://keras.io/examples/timeseries/timeseries_anomaly_detection/"
   ]
  },
  {
   "cell_type": "code",
   "execution_count": 1,
   "id": "10f9d2e5",
   "metadata": {},
   "outputs": [],
   "source": [
    "# Numerical arrays.\n",
    "import numpy as np\n",
    "\n",
    "# Spreadsheet-like Data Frames.\n",
    "import pandas as pd\n",
    "\n",
    "# Neural networks.\n",
    "import tensorflow.keras as keras\n",
    "\n",
    "# Plotting\n",
    "import matplotlib.pyplot as plt\n",
    "\n",
    "# Magic function \n",
    "%matplotlib inline\n",
    "\n",
    "# Change default style sheet\n",
    "plt.style.use('fivethirtyeight')\n",
    "\n",
    "# Seaborn plots\n",
    "import seaborn as sns"
   ]
  },
  {
   "cell_type": "markdown",
   "id": "185c236b",
   "metadata": {},
   "source": [
    "## Data\n",
    "\n",
    "***"
   ]
  },
  {
   "cell_type": "markdown",
   "id": "757b625b",
   "metadata": {},
   "source": [
    "https://www.kaggle.com/datasets/boltzmannbrain/nab"
   ]
  },
  {
   "cell_type": "markdown",
   "id": "43aea355",
   "metadata": {},
   "source": [
    "https://github.com/numenta/NAB"
   ]
  },
  {
   "cell_type": "code",
   "execution_count": 2,
   "id": "72f1aeb5",
   "metadata": {},
   "outputs": [],
   "source": [
    "# Root of URLs.\n",
    "root_url = 'https://raw.githubusercontent.com/numenta/NAB/master/data/'\n",
    "\n",
    "# Data file without anomaly.\n",
    "no_anomaly_url = root_url + 'artificialNoAnomaly/art_daily_small_noise.csv'\n",
    "\n",
    "# Data file with anomaly.\n",
    "with_anomaly_url = root_url + 'artificialWithAnomaly/art_daily_jumpsup.csv'"
   ]
  },
  {
   "cell_type": "code",
   "execution_count": 3,
   "id": "5a678d1f",
   "metadata": {},
   "outputs": [
    {
     "data": {
      "text/plain": [
       "'https://raw.githubusercontent.com/numenta/NAB/master/data/artificialNoAnomaly/art_daily_small_noise.csv'"
      ]
     },
     "execution_count": 3,
     "metadata": {},
     "output_type": "execute_result"
    }
   ],
   "source": [
    "no_anomaly_url"
   ]
  },
  {
   "cell_type": "code",
   "execution_count": 4,
   "id": "a0c402c4",
   "metadata": {},
   "outputs": [
    {
     "data": {
      "text/plain": [
       "'https://raw.githubusercontent.com/numenta/NAB/master/data/artificialWithAnomaly/art_daily_jumpsup.csv'"
      ]
     },
     "execution_count": 4,
     "metadata": {},
     "output_type": "execute_result"
    }
   ],
   "source": [
    "with_anomaly_url"
   ]
  },
  {
   "cell_type": "code",
   "execution_count": 5,
   "id": "ee2cf583",
   "metadata": {},
   "outputs": [],
   "source": [
    "# Read a comma-separated values (csv) file into DataFrame.\n",
    "# Use \"timestamp\" as the row labels of the DataFrame.\n",
    "df_small_noise = pd.read_csv(no_anomaly_url, parse_dates=True, index_col=\"timestamp\")"
   ]
  },
  {
   "cell_type": "code",
   "execution_count": 6,
   "id": "97bfb93c",
   "metadata": {},
   "outputs": [
    {
     "data": {
      "text/html": [
       "<div>\n",
       "<style scoped>\n",
       "    .dataframe tbody tr th:only-of-type {\n",
       "        vertical-align: middle;\n",
       "    }\n",
       "\n",
       "    .dataframe tbody tr th {\n",
       "        vertical-align: top;\n",
       "    }\n",
       "\n",
       "    .dataframe thead th {\n",
       "        text-align: right;\n",
       "    }\n",
       "</style>\n",
       "<table border=\"1\" class=\"dataframe\">\n",
       "  <thead>\n",
       "    <tr style=\"text-align: right;\">\n",
       "      <th></th>\n",
       "      <th>value</th>\n",
       "    </tr>\n",
       "    <tr>\n",
       "      <th>timestamp</th>\n",
       "      <th></th>\n",
       "    </tr>\n",
       "  </thead>\n",
       "  <tbody>\n",
       "    <tr>\n",
       "      <th>2014-04-01 00:00:00</th>\n",
       "      <td>18.324919</td>\n",
       "    </tr>\n",
       "    <tr>\n",
       "      <th>2014-04-01 00:05:00</th>\n",
       "      <td>21.970327</td>\n",
       "    </tr>\n",
       "    <tr>\n",
       "      <th>2014-04-01 00:10:00</th>\n",
       "      <td>18.624806</td>\n",
       "    </tr>\n",
       "    <tr>\n",
       "      <th>2014-04-01 00:15:00</th>\n",
       "      <td>21.953684</td>\n",
       "    </tr>\n",
       "    <tr>\n",
       "      <th>2014-04-01 00:20:00</th>\n",
       "      <td>21.909120</td>\n",
       "    </tr>\n",
       "  </tbody>\n",
       "</table>\n",
       "</div>"
      ],
      "text/plain": [
       "                         value\n",
       "timestamp                     \n",
       "2014-04-01 00:00:00  18.324919\n",
       "2014-04-01 00:05:00  21.970327\n",
       "2014-04-01 00:10:00  18.624806\n",
       "2014-04-01 00:15:00  21.953684\n",
       "2014-04-01 00:20:00  21.909120"
      ]
     },
     "execution_count": 6,
     "metadata": {},
     "output_type": "execute_result"
    }
   ],
   "source": [
    "# Return the first n rows (5 by default).\n",
    "df_small_noise.head()"
   ]
  },
  {
   "cell_type": "code",
   "execution_count": 7,
   "id": "a328696c",
   "metadata": {},
   "outputs": [
    {
     "data": {
      "text/html": [
       "<div>\n",
       "<style scoped>\n",
       "    .dataframe tbody tr th:only-of-type {\n",
       "        vertical-align: middle;\n",
       "    }\n",
       "\n",
       "    .dataframe tbody tr th {\n",
       "        vertical-align: top;\n",
       "    }\n",
       "\n",
       "    .dataframe thead th {\n",
       "        text-align: right;\n",
       "    }\n",
       "</style>\n",
       "<table border=\"1\" class=\"dataframe\">\n",
       "  <thead>\n",
       "    <tr style=\"text-align: right;\">\n",
       "      <th></th>\n",
       "      <th>value</th>\n",
       "    </tr>\n",
       "  </thead>\n",
       "  <tbody>\n",
       "    <tr>\n",
       "      <th>count</th>\n",
       "      <td>4032.000000</td>\n",
       "    </tr>\n",
       "    <tr>\n",
       "      <th>mean</th>\n",
       "      <td>42.438353</td>\n",
       "    </tr>\n",
       "    <tr>\n",
       "      <th>std</th>\n",
       "      <td>28.077122</td>\n",
       "    </tr>\n",
       "    <tr>\n",
       "      <th>min</th>\n",
       "      <td>18.000964</td>\n",
       "    </tr>\n",
       "    <tr>\n",
       "      <th>25%</th>\n",
       "      <td>19.841390</td>\n",
       "    </tr>\n",
       "    <tr>\n",
       "      <th>50%</th>\n",
       "      <td>21.608487</td>\n",
       "    </tr>\n",
       "    <tr>\n",
       "      <th>75%</th>\n",
       "      <td>75.450282</td>\n",
       "    </tr>\n",
       "    <tr>\n",
       "      <th>max</th>\n",
       "      <td>87.976128</td>\n",
       "    </tr>\n",
       "  </tbody>\n",
       "</table>\n",
       "</div>"
      ],
      "text/plain": [
       "             value\n",
       "count  4032.000000\n",
       "mean     42.438353\n",
       "std      28.077122\n",
       "min      18.000964\n",
       "25%      19.841390\n",
       "50%      21.608487\n",
       "75%      75.450282\n",
       "max      87.976128"
      ]
     },
     "execution_count": 7,
     "metadata": {},
     "output_type": "execute_result"
    }
   ],
   "source": [
    "# Generate descriptive statistics.\n",
    "df_small_noise.describe()"
   ]
  },
  {
   "cell_type": "markdown",
   "id": "0f91f588",
   "metadata": {},
   "source": [
    "After using `df_small_noise.head()`, pandas seems to have rounded the first value in the DataFrame. If we look at the first value in the csv file, it's 18.324918539200002. This could be a problem later on so let's investigate this."
   ]
  },
  {
   "cell_type": "code",
   "execution_count": 8,
   "id": "8fee2ed7",
   "metadata": {},
   "outputs": [
    {
     "data": {
      "text/plain": [
       "value    18.324919\n",
       "Name: 2014-04-01 00:00:00, dtype: float64"
      ]
     },
     "execution_count": 8,
     "metadata": {},
     "output_type": "execute_result"
    }
   ],
   "source": [
    "# Use iloc for integer-location based indexing. Selection by position.\n",
    "df_small_noise.iloc[0]"
   ]
  },
  {
   "cell_type": "code",
   "execution_count": 9,
   "id": "bfbe5b99",
   "metadata": {},
   "outputs": [
    {
     "data": {
      "text/plain": [
       "18.3249185392"
      ]
     },
     "execution_count": 9,
     "metadata": {},
     "output_type": "execute_result"
    }
   ],
   "source": [
    "# Ask pandas for the 'value' column.\n",
    "df_small_noise.iloc[0]['value']"
   ]
  },
  {
   "cell_type": "code",
   "execution_count": 10,
   "id": "3608d334",
   "metadata": {},
   "outputs": [
    {
     "data": {
      "text/plain": [
       "18.3249185392"
      ]
     },
     "execution_count": 10,
     "metadata": {},
     "output_type": "execute_result"
    }
   ],
   "source": [
    "# Return the 0th value of the DataFrame (does the same thing as above).\n",
    "df_small_noise.iloc[0].values[0]"
   ]
  },
  {
   "cell_type": "markdown",
   "id": "f58310db",
   "metadata": {},
   "source": [
    "The value seems to be rounded when we print the individual value. It wasn't rounded as much as when we used `df_small_noise.head()`. Below we can multiply by a big number to see if jupyter will display the trailing values."
   ]
  },
  {
   "cell_type": "code",
   "execution_count": 11,
   "id": "7e503878",
   "metadata": {},
   "outputs": [
    {
     "data": {
      "text/plain": [
       "183249185392000.0"
      ]
     },
     "execution_count": 11,
     "metadata": {},
     "output_type": "execute_result"
    }
   ],
   "source": [
    "# Multiply by 10e12 to see if we can see the missing values.\n",
    "df_small_noise.iloc[0].values[0] * 10e12"
   ]
  },
  {
   "cell_type": "markdown",
   "id": "0e00a486",
   "metadata": {},
   "source": [
    "The missing values are still not being printed. The missing digits are so small however that we probably will not see any effect."
   ]
  },
  {
   "cell_type": "code",
   "execution_count": 12,
   "id": "50cdcc3b",
   "metadata": {},
   "outputs": [
    {
     "data": {
      "text/plain": [
       "(4032, 1)"
      ]
     },
     "execution_count": 12,
     "metadata": {},
     "output_type": "execute_result"
    }
   ],
   "source": [
    "# Returns a tuple that shows how many dimension the DataFrame has.\n",
    "df_small_noise.shape"
   ]
  },
  {
   "cell_type": "markdown",
   "id": "ad8145f8",
   "metadata": {},
   "source": [
    "The DataFrame has 2 dimensions. It has 4032 rows if we do not include the header rows. This matches the raw csv which has 4033 including the header row."
   ]
  },
  {
   "cell_type": "code",
   "execution_count": 13,
   "id": "2f8e67b3",
   "metadata": {},
   "outputs": [
    {
     "data": {
      "image/png": "[encoded data removed]",
      "text/plain": [
       "<Figure size 720x288 with 1 Axes>"
      ]
     },
     "metadata": {},
     "output_type": "display_data"
    }
   ],
   "source": [
    "# Shortcut for initializing a figure and subplot axes.\n",
    "fig, ax = plt.subplots(figsize=(10,4))\n",
    "\n",
    "# Use pandas to plot data frame.\n",
    "df_small_noise.plot(legend=False, ax=ax);"
   ]
  },
  {
   "cell_type": "code",
   "execution_count": 14,
   "id": "ab0d54ce",
   "metadata": {},
   "outputs": [],
   "source": [
    "# Read a comma-separated values (csv) file into DataFrame.\n",
    "df_daily_jumpsup = pd.read_csv(with_anomaly_url, parse_dates=True, index_col=\"timestamp\")"
   ]
  },
  {
   "cell_type": "code",
   "execution_count": 15,
   "id": "f92b9389",
   "metadata": {},
   "outputs": [
    {
     "data": {
      "text/html": [
       "<div>\n",
       "<style scoped>\n",
       "    .dataframe tbody tr th:only-of-type {\n",
       "        vertical-align: middle;\n",
       "    }\n",
       "\n",
       "    .dataframe tbody tr th {\n",
       "        vertical-align: top;\n",
       "    }\n",
       "\n",
       "    .dataframe thead th {\n",
       "        text-align: right;\n",
       "    }\n",
       "</style>\n",
       "<table border=\"1\" class=\"dataframe\">\n",
       "  <thead>\n",
       "    <tr style=\"text-align: right;\">\n",
       "      <th></th>\n",
       "      <th>value</th>\n",
       "    </tr>\n",
       "    <tr>\n",
       "      <th>timestamp</th>\n",
       "      <th></th>\n",
       "    </tr>\n",
       "  </thead>\n",
       "  <tbody>\n",
       "    <tr>\n",
       "      <th>2014-04-01 00:00:00</th>\n",
       "      <td>19.761252</td>\n",
       "    </tr>\n",
       "    <tr>\n",
       "      <th>2014-04-01 00:05:00</th>\n",
       "      <td>20.500833</td>\n",
       "    </tr>\n",
       "    <tr>\n",
       "      <th>2014-04-01 00:10:00</th>\n",
       "      <td>19.961641</td>\n",
       "    </tr>\n",
       "    <tr>\n",
       "      <th>2014-04-01 00:15:00</th>\n",
       "      <td>21.490266</td>\n",
       "    </tr>\n",
       "    <tr>\n",
       "      <th>2014-04-01 00:20:00</th>\n",
       "      <td>20.187739</td>\n",
       "    </tr>\n",
       "  </tbody>\n",
       "</table>\n",
       "</div>"
      ],
      "text/plain": [
       "                         value\n",
       "timestamp                     \n",
       "2014-04-01 00:00:00  19.761252\n",
       "2014-04-01 00:05:00  20.500833\n",
       "2014-04-01 00:10:00  19.961641\n",
       "2014-04-01 00:15:00  21.490266\n",
       "2014-04-01 00:20:00  20.187739"
      ]
     },
     "execution_count": 15,
     "metadata": {},
     "output_type": "execute_result"
    }
   ],
   "source": [
    "# Return the first n rows (5 by default).\n",
    "df_daily_jumpsup.head()"
   ]
  },
  {
   "cell_type": "code",
   "execution_count": 16,
   "id": "c9262dd4",
   "metadata": {},
   "outputs": [
    {
     "data": {
      "text/html": [
       "<div>\n",
       "<style scoped>\n",
       "    .dataframe tbody tr th:only-of-type {\n",
       "        vertical-align: middle;\n",
       "    }\n",
       "\n",
       "    .dataframe tbody tr th {\n",
       "        vertical-align: top;\n",
       "    }\n",
       "\n",
       "    .dataframe thead th {\n",
       "        text-align: right;\n",
       "    }\n",
       "</style>\n",
       "<table border=\"1\" class=\"dataframe\">\n",
       "  <thead>\n",
       "    <tr style=\"text-align: right;\">\n",
       "      <th></th>\n",
       "      <th>value</th>\n",
       "    </tr>\n",
       "  </thead>\n",
       "  <tbody>\n",
       "    <tr>\n",
       "      <th>count</th>\n",
       "      <td>4032.000000</td>\n",
       "    </tr>\n",
       "    <tr>\n",
       "      <th>mean</th>\n",
       "      <td>44.494254</td>\n",
       "    </tr>\n",
       "    <tr>\n",
       "      <th>std</th>\n",
       "      <td>32.432473</td>\n",
       "    </tr>\n",
       "    <tr>\n",
       "      <th>min</th>\n",
       "      <td>18.001010</td>\n",
       "    </tr>\n",
       "    <tr>\n",
       "      <th>25%</th>\n",
       "      <td>19.991382</td>\n",
       "    </tr>\n",
       "    <tr>\n",
       "      <th>50%</th>\n",
       "      <td>21.648503</td>\n",
       "    </tr>\n",
       "    <tr>\n",
       "      <th>75%</th>\n",
       "      <td>76.435943</td>\n",
       "    </tr>\n",
       "    <tr>\n",
       "      <th>max</th>\n",
       "      <td>164.947481</td>\n",
       "    </tr>\n",
       "  </tbody>\n",
       "</table>\n",
       "</div>"
      ],
      "text/plain": [
       "             value\n",
       "count  4032.000000\n",
       "mean     44.494254\n",
       "std      32.432473\n",
       "min      18.001010\n",
       "25%      19.991382\n",
       "50%      21.648503\n",
       "75%      76.435943\n",
       "max     164.947481"
      ]
     },
     "execution_count": 16,
     "metadata": {},
     "output_type": "execute_result"
    }
   ],
   "source": [
    "# Generate descriptive statistics.\n",
    "df_daily_jumpsup.describe()"
   ]
  },
  {
   "cell_type": "code",
   "execution_count": 17,
   "id": "d3f6171b",
   "metadata": {},
   "outputs": [
    {
     "data": {
      "text/plain": [
       "19.761251903"
      ]
     },
     "execution_count": 17,
     "metadata": {},
     "output_type": "execute_result"
    }
   ],
   "source": [
    "# Ask pandas for the 'value' column.\n",
    "df_daily_jumpsup.iloc[0]['value']"
   ]
  },
  {
   "cell_type": "code",
   "execution_count": 18,
   "id": "1574ece2",
   "metadata": {},
   "outputs": [
    {
     "data": {
      "text/plain": [
       "(4032, 1)"
      ]
     },
     "execution_count": 18,
     "metadata": {},
     "output_type": "execute_result"
    }
   ],
   "source": [
    "# Returns a tuple that shows how many dimension the DataFrame has.\n",
    "df_daily_jumpsup.shape"
   ]
  },
  {
   "cell_type": "code",
   "execution_count": 19,
   "id": "09859cbe",
   "metadata": {},
   "outputs": [
    {
     "data": {
      "image/png": "[encoded data removed]",
      "text/plain": [
       "<Figure size 720x288 with 1 Axes>"
      ]
     },
     "metadata": {},
     "output_type": "display_data"
    }
   ],
   "source": [
    "# Shortcut for initializing a figure and subplot axes.\n",
    "fig, ax = plt.subplots(figsize=(10,4))\n",
    "\n",
    "# Use pandas to plot data frame.\n",
    "df_daily_jumpsup.plot(legend=False, ax=ax);"
   ]
  },
  {
   "cell_type": "markdown",
   "id": "cd6b03fe",
   "metadata": {},
   "source": [
    "## Preprocessing\n",
    "\n",
    "***"
   ]
  },
  {
   "cell_type": "code",
   "execution_count": 20,
   "id": "8b64ae30",
   "metadata": {},
   "outputs": [
    {
     "data": {
      "text/plain": [
       "value    42.438353\n",
       "dtype: float64"
      ]
     },
     "execution_count": 20,
     "metadata": {},
     "output_type": "execute_result"
    }
   ],
   "source": [
    "# Get the mean.\n",
    "train_mean = df_small_noise.mean()\n",
    "\n",
    "train_mean"
   ]
  },
  {
   "cell_type": "code",
   "execution_count": 21,
   "id": "2fa01fa3",
   "metadata": {},
   "outputs": [
    {
     "data": {
      "text/plain": [
       "value    28.077122\n",
       "dtype: float64"
      ]
     },
     "execution_count": 21,
     "metadata": {},
     "output_type": "execute_result"
    }
   ],
   "source": [
    "# Get the standard deviation.\n",
    "train_std = df_small_noise.std()\n",
    "\n",
    "train_std"
   ]
  },
  {
   "cell_type": "code",
   "execution_count": 22,
   "id": "ec86fd33",
   "metadata": {},
   "outputs": [],
   "source": [
    "# Subtract the mean from each value in the DataFrame and divide that value by the standard deviation.\n",
    "df_train_vals = (df_small_noise - train_mean) / train_std"
   ]
  },
  {
   "cell_type": "code",
   "execution_count": 23,
   "id": "4cba209b",
   "metadata": {},
   "outputs": [
    {
     "data": {
      "text/html": [
       "<div>\n",
       "<style scoped>\n",
       "    .dataframe tbody tr th:only-of-type {\n",
       "        vertical-align: middle;\n",
       "    }\n",
       "\n",
       "    .dataframe tbody tr th {\n",
       "        vertical-align: top;\n",
       "    }\n",
       "\n",
       "    .dataframe thead th {\n",
       "        text-align: right;\n",
       "    }\n",
       "</style>\n",
       "<table border=\"1\" class=\"dataframe\">\n",
       "  <thead>\n",
       "    <tr style=\"text-align: right;\">\n",
       "      <th></th>\n",
       "      <th>value</th>\n",
       "    </tr>\n",
       "    <tr>\n",
       "      <th>timestamp</th>\n",
       "      <th></th>\n",
       "    </tr>\n",
       "  </thead>\n",
       "  <tbody>\n",
       "    <tr>\n",
       "      <th>2014-04-01 00:00:00</th>\n",
       "      <td>-0.858829</td>\n",
       "    </tr>\n",
       "    <tr>\n",
       "      <th>2014-04-01 00:05:00</th>\n",
       "      <td>-0.728993</td>\n",
       "    </tr>\n",
       "    <tr>\n",
       "      <th>2014-04-01 00:10:00</th>\n",
       "      <td>-0.848148</td>\n",
       "    </tr>\n",
       "    <tr>\n",
       "      <th>2014-04-01 00:15:00</th>\n",
       "      <td>-0.729586</td>\n",
       "    </tr>\n",
       "    <tr>\n",
       "      <th>2014-04-01 00:20:00</th>\n",
       "      <td>-0.731173</td>\n",
       "    </tr>\n",
       "  </tbody>\n",
       "</table>\n",
       "</div>"
      ],
      "text/plain": [
       "                        value\n",
       "timestamp                    \n",
       "2014-04-01 00:00:00 -0.858829\n",
       "2014-04-01 00:05:00 -0.728993\n",
       "2014-04-01 00:10:00 -0.848148\n",
       "2014-04-01 00:15:00 -0.729586\n",
       "2014-04-01 00:20:00 -0.731173"
      ]
     },
     "execution_count": 23,
     "metadata": {},
     "output_type": "execute_result"
    }
   ],
   "source": [
    "# Return the first n rows (5 by default).\n",
    "df_train_vals.head()"
   ]
  },
  {
   "cell_type": "code",
   "execution_count": 24,
   "id": "2c4e9d0f",
   "metadata": {},
   "outputs": [],
   "source": [
    "# Create a new column 'less_mean' which is the result of subtracting the mean from each value \n",
    "# in the DataFrame\n",
    "df_small_noise['less_mean'] = df_small_noise['value'] - df_small_noise['value'].mean()\n",
    "\n",
    "# Create a new column 'div_std' which is the result of dividing the 'less_mean' by the \n",
    "# standard deviation.\n",
    "df_small_noise['div_std'] = df_small_noise['less_mean'] / df_small_noise['value'].std()"
   ]
  },
  {
   "cell_type": "code",
   "execution_count": 25,
   "id": "6c117036",
   "metadata": {},
   "outputs": [
    {
     "data": {
      "text/html": [
       "<div>\n",
       "<style scoped>\n",
       "    .dataframe tbody tr th:only-of-type {\n",
       "        vertical-align: middle;\n",
       "    }\n",
       "\n",
       "    .dataframe tbody tr th {\n",
       "        vertical-align: top;\n",
       "    }\n",
       "\n",
       "    .dataframe thead th {\n",
       "        text-align: right;\n",
       "    }\n",
       "</style>\n",
       "<table border=\"1\" class=\"dataframe\">\n",
       "  <thead>\n",
       "    <tr style=\"text-align: right;\">\n",
       "      <th></th>\n",
       "      <th>value</th>\n",
       "      <th>less_mean</th>\n",
       "      <th>div_std</th>\n",
       "    </tr>\n",
       "    <tr>\n",
       "      <th>timestamp</th>\n",
       "      <th></th>\n",
       "      <th></th>\n",
       "      <th></th>\n",
       "    </tr>\n",
       "  </thead>\n",
       "  <tbody>\n",
       "    <tr>\n",
       "      <th>2014-04-01 00:00:00</th>\n",
       "      <td>18.324919</td>\n",
       "      <td>-24.113435</td>\n",
       "      <td>-0.858829</td>\n",
       "    </tr>\n",
       "    <tr>\n",
       "      <th>2014-04-01 00:05:00</th>\n",
       "      <td>21.970327</td>\n",
       "      <td>-20.468026</td>\n",
       "      <td>-0.728993</td>\n",
       "    </tr>\n",
       "    <tr>\n",
       "      <th>2014-04-01 00:10:00</th>\n",
       "      <td>18.624806</td>\n",
       "      <td>-23.813547</td>\n",
       "      <td>-0.848148</td>\n",
       "    </tr>\n",
       "    <tr>\n",
       "      <th>2014-04-01 00:15:00</th>\n",
       "      <td>21.953684</td>\n",
       "      <td>-20.484669</td>\n",
       "      <td>-0.729586</td>\n",
       "    </tr>\n",
       "    <tr>\n",
       "      <th>2014-04-01 00:20:00</th>\n",
       "      <td>21.909120</td>\n",
       "      <td>-20.529234</td>\n",
       "      <td>-0.731173</td>\n",
       "    </tr>\n",
       "    <tr>\n",
       "      <th>...</th>\n",
       "      <td>...</td>\n",
       "      <td>...</td>\n",
       "      <td>...</td>\n",
       "    </tr>\n",
       "    <tr>\n",
       "      <th>2014-04-14 23:35:00</th>\n",
       "      <td>20.211195</td>\n",
       "      <td>-22.227159</td>\n",
       "      <td>-0.791647</td>\n",
       "    </tr>\n",
       "    <tr>\n",
       "      <th>2014-04-14 23:40:00</th>\n",
       "      <td>20.531041</td>\n",
       "      <td>-21.907313</td>\n",
       "      <td>-0.780255</td>\n",
       "    </tr>\n",
       "    <tr>\n",
       "      <th>2014-04-14 23:45:00</th>\n",
       "      <td>19.032127</td>\n",
       "      <td>-23.406226</td>\n",
       "      <td>-0.833640</td>\n",
       "    </tr>\n",
       "    <tr>\n",
       "      <th>2014-04-14 23:50:00</th>\n",
       "      <td>21.798801</td>\n",
       "      <td>-20.639552</td>\n",
       "      <td>-0.735102</td>\n",
       "    </tr>\n",
       "    <tr>\n",
       "      <th>2014-04-14 23:55:00</th>\n",
       "      <td>18.682620</td>\n",
       "      <td>-23.755733</td>\n",
       "      <td>-0.846089</td>\n",
       "    </tr>\n",
       "  </tbody>\n",
       "</table>\n",
       "<p>4032 rows × 3 columns</p>\n",
       "</div>"
      ],
      "text/plain": [
       "                         value  less_mean   div_std\n",
       "timestamp                                          \n",
       "2014-04-01 00:00:00  18.324919 -24.113435 -0.858829\n",
       "2014-04-01 00:05:00  21.970327 -20.468026 -0.728993\n",
       "2014-04-01 00:10:00  18.624806 -23.813547 -0.848148\n",
       "2014-04-01 00:15:00  21.953684 -20.484669 -0.729586\n",
       "2014-04-01 00:20:00  21.909120 -20.529234 -0.731173\n",
       "...                        ...        ...       ...\n",
       "2014-04-14 23:35:00  20.211195 -22.227159 -0.791647\n",
       "2014-04-14 23:40:00  20.531041 -21.907313 -0.780255\n",
       "2014-04-14 23:45:00  19.032127 -23.406226 -0.833640\n",
       "2014-04-14 23:50:00  21.798801 -20.639552 -0.735102\n",
       "2014-04-14 23:55:00  18.682620 -23.755733 -0.846089\n",
       "\n",
       "[4032 rows x 3 columns]"
      ]
     },
     "execution_count": 25,
     "metadata": {},
     "output_type": "execute_result"
    }
   ],
   "source": [
    "# Take a look at the new columns in 'df_small_noise'\n",
    "df_small_noise"
   ]
  },
  {
   "cell_type": "code",
   "execution_count": 26,
   "id": "4eb7c824",
   "metadata": {},
   "outputs": [
    {
     "data": {
      "text/plain": [
       "(42.43835333580657, 5.018912974813406e-15, 1.691768418476429e-16)"
      ]
     },
     "execution_count": 26,
     "metadata": {},
     "output_type": "execute_result"
    }
   ],
   "source": [
    "df_small_noise['value'].mean(), df_small_noise['less_mean'].mean(), df_small_noise['div_std'].mean()"
   ]
  },
  {
   "cell_type": "code",
   "execution_count": 27,
   "id": "cf7c3ef1",
   "metadata": {},
   "outputs": [
    {
     "data": {
      "text/plain": [
       "(28.07712228126252, 28.077122281262515, 0.9999999999999999)"
      ]
     },
     "execution_count": 27,
     "metadata": {},
     "output_type": "execute_result"
    }
   ],
   "source": [
    "df_small_noise['value'].std(), df_small_noise['less_mean'].std(), df_small_noise['div_std'].std()"
   ]
  },
  {
   "cell_type": "code",
   "execution_count": 28,
   "id": "5cd18aee",
   "metadata": {},
   "outputs": [
    {
     "data": {
      "image/png": "[encoded data removed]",
      "text/plain": [
       "<Figure size 720x288 with 1 Axes>"
      ]
     },
     "metadata": {},
     "output_type": "display_data"
    }
   ],
   "source": [
    "# Shortcut for initializing a figure and subplot axes.\n",
    "fig, ax = plt.subplots(figsize=(10,4))\n",
    "\n",
    "# Use pandas to plot data frame.\n",
    "df_train_vals.plot(legend=False, ax=ax);"
   ]
  },
  {
   "cell_type": "code",
   "execution_count": 29,
   "id": "dc2baa24",
   "metadata": {},
   "outputs": [
    {
     "data": {
      "text/plain": [
       "(4032, 1)"
      ]
     },
     "execution_count": 29,
     "metadata": {},
     "output_type": "execute_result"
    }
   ],
   "source": [
    "# Returns a tuple that shows how many dimension the DataFrame has.\n",
    "df_train_vals.shape"
   ]
  },
  {
   "cell_type": "code",
   "execution_count": 30,
   "id": "af7cc8ac",
   "metadata": {},
   "outputs": [
    {
     "data": {
      "text/plain": [
       "12"
      ]
     },
     "execution_count": 30,
     "metadata": {},
     "output_type": "execute_result"
    }
   ],
   "source": [
    "# Window list example.\n",
    "L = [1, 1, 2, 4, 5, 6, 7, 1, 2, 3, 4, 5]\n",
    "# Example window size.\n",
    "win_size = 3\n",
    "# Length of L.\n",
    "len(L)"
   ]
  },
  {
   "cell_type": "code",
   "execution_count": 31,
   "id": "8bc7801e",
   "metadata": {},
   "outputs": [
    {
     "data": {
      "text/plain": [
       "10"
      ]
     },
     "execution_count": 31,
     "metadata": {},
     "output_type": "execute_result"
    }
   ],
   "source": [
    "# Number of windows from L.\n",
    "len(L) - (win_size - 1)"
   ]
  },
  {
   "cell_type": "code",
   "execution_count": 32,
   "id": "4b00cc58",
   "metadata": {},
   "outputs": [
    {
     "data": {
      "text/plain": [
       "10"
      ]
     },
     "execution_count": 32,
     "metadata": {},
     "output_type": "execute_result"
    }
   ],
   "source": [
    "# Remove brackets.\n",
    "len(L) - win_size + 1"
   ]
  },
  {
   "cell_type": "code",
   "execution_count": 33,
   "id": "a22d7333",
   "metadata": {},
   "outputs": [
    {
     "name": "stdout",
     "output_type": "stream",
     "text": [
      "[1, 1, 2]\n",
      "[1, 2, 4]\n",
      "[2, 4, 5]\n",
      "[4, 5, 6]\n",
      "[5, 6, 7]\n",
      "[6, 7, 1]\n",
      "[7, 1, 2]\n",
      "[1, 2, 3]\n",
      "[2, 3, 4]\n",
      "[3, 4, 5]\n"
     ]
    }
   ],
   "source": [
    "# Print the windows.\n",
    "for i in range(len(L) - win_size + 1):\n",
    "    print(L[i:i + win_size])\n"
   ]
  },
  {
   "cell_type": "code",
   "execution_count": 34,
   "id": "16ec2b35",
   "metadata": {},
   "outputs": [
    {
     "data": {
      "text/plain": [
       "[[1, 1, 2],\n",
       " [1, 2, 4],\n",
       " [2, 4, 5],\n",
       " [4, 5, 6],\n",
       " [5, 6, 7],\n",
       " [6, 7, 1],\n",
       " [7, 1, 2],\n",
       " [1, 2, 3],\n",
       " [2, 3, 4],\n",
       " [3, 4, 5]]"
      ]
     },
     "execution_count": 34,
     "metadata": {},
     "output_type": "execute_result"
    }
   ],
   "source": [
    "# For accumulating the windows.\n",
    "wins = []\n",
    "\n",
    "# Generate the windows\n",
    "for i in range(len(L) - win_size + 1):\n",
    "    wins.append(L[i:i + win_size])\n",
    "\n",
    "wins"
   ]
  },
  {
   "cell_type": "code",
   "execution_count": 35,
   "id": "f3711265",
   "metadata": {},
   "outputs": [
    {
     "data": {
      "text/plain": [
       "array([[1, 1, 2],\n",
       "       [1, 2, 4],\n",
       "       [2, 4, 5],\n",
       "       [4, 5, 6],\n",
       "       [5, 6, 7],\n",
       "       [6, 7, 1],\n",
       "       [7, 1, 2],\n",
       "       [1, 2, 3],\n",
       "       [2, 3, 4],\n",
       "       [3, 4, 5]])"
      ]
     },
     "execution_count": 35,
     "metadata": {},
     "output_type": "execute_result"
    }
   ],
   "source": [
    "# Create a 2D numpy array from wins.\n",
    "np.stack(wins)"
   ]
  },
  {
   "cell_type": "code",
   "execution_count": 36,
   "id": "38827050",
   "metadata": {},
   "outputs": [],
   "source": [
    "# Window size for the DataFrame.\n",
    "window_size = 288"
   ]
  },
  {
   "cell_type": "code",
   "execution_count": 37,
   "id": "5981d782",
   "metadata": {},
   "outputs": [],
   "source": [
    "# Function to generate the windows in the DataFrame.\n",
    "def windows(vals, N=window_size):\n",
    "  # \n",
    "  L = []\n",
    "  # \n",
    "  for i in range(len(vals) - N + 1):\n",
    "    # \n",
    "    L.append(vals[i:i+N])\n",
    "  # Stack\n",
    "  return np.stack(L)"
   ]
  },
  {
   "cell_type": "code",
   "execution_count": 38,
   "id": "c6d2ebbc",
   "metadata": {},
   "outputs": [],
   "source": [
    "# Use def windows to generate the training data for x.\n",
    "x_train = windows(df_train_vals)"
   ]
  },
  {
   "cell_type": "code",
   "execution_count": 39,
   "id": "25c04be5",
   "metadata": {},
   "outputs": [
    {
     "data": {
      "text/plain": [
       "(array([-0.85882857]), array([-0.8460886]))"
      ]
     },
     "execution_count": 39,
     "metadata": {},
     "output_type": "execute_result"
    }
   ],
   "source": [
    "# Look at the first and last values in x_train using indexing.\n",
    "x_train[0][0], x_train[-1][-1]"
   ]
  },
  {
   "cell_type": "code",
   "execution_count": 40,
   "id": "7f936e9d",
   "metadata": {},
   "outputs": [
    {
     "data": {
      "text/plain": [
       "(value   -0.858829\n",
       " Name: 2014-04-01 00:00:00, dtype: float64,\n",
       " value   -0.846089\n",
       " Name: 2014-04-14 23:55:00, dtype: float64)"
      ]
     },
     "execution_count": 40,
     "metadata": {},
     "output_type": "execute_result"
    }
   ],
   "source": [
    "# Look at the first and last values in x_train using iloc.\n",
    "df_train_vals.iloc[0], df_train_vals.iloc[-1]"
   ]
  },
  {
   "cell_type": "code",
   "execution_count": 41,
   "id": "63592a0d",
   "metadata": {},
   "outputs": [
    {
     "data": {
      "text/plain": [
       "(3745, 288, 1)"
      ]
     },
     "execution_count": 41,
     "metadata": {},
     "output_type": "execute_result"
    }
   ],
   "source": [
    "# Returns a tuple that shows how many dimension the DataFrame has.\n",
    "x_train.shape"
   ]
  },
  {
   "cell_type": "code",
   "execution_count": 42,
   "id": "04cffb8e",
   "metadata": {},
   "outputs": [
    {
     "data": {
      "text/plain": [
       "array([-0.85882857, -0.72899302, -0.84814772, ..., -0.83364049,\n",
       "       -0.73510213, -0.8460886 ])"
      ]
     },
     "execution_count": 42,
     "metadata": {},
     "output_type": "execute_result"
    }
   ],
   "source": [
    "# Ask pandas for the 'value' column and use '.values' to return a Numpy representation of the DataFrame.\n",
    "df_train_vals['value'].values"
   ]
  },
  {
   "cell_type": "code",
   "execution_count": 43,
   "id": "0c3936ee",
   "metadata": {},
   "outputs": [
    {
     "data": {
      "text/plain": [
       "array([-0.85882857, -0.72899302, -0.84814772, -0.72958579, -0.731173  ,\n",
       "       -0.75730984, -0.77645641, -0.7880838 , -0.747012  , -0.829166  ,\n",
       "       -0.80377285, -0.7821597 , -0.81182078, -0.80949918, -0.82334701,\n",
       "       -0.79001779, -0.74922405, -0.84169024, -0.73727717, -0.77223023,\n",
       "       -0.75311352, -0.79116337, -0.75934728, -0.86809294, -0.75381057,\n",
       "       -0.86468256, -0.74361965, -0.72908121, -0.82850668, -0.84043795,\n",
       "       -0.76136364, -0.8343536 , -0.74708881, -0.85574949, -0.85245676,\n",
       "       -0.73090636, -0.77440264, -0.74974936, -0.82419543, -0.77402585,\n",
       "       -0.78574242, -0.7844733 , -0.77316412, -0.78843253, -0.80927467,\n",
       "       -0.83109167, -0.76090519, -0.83816509, -0.77176485, -0.83715923,\n",
       "       -0.78131343, -0.76396862, -0.83924191, -0.86186112, -0.85174179,\n",
       "       -0.78406773, -0.74938477, -0.86399047, -0.76581026, -0.82177506,\n",
       "       -0.80222751, -0.73807119, -0.82310669, -0.80410682, -0.86845167,\n",
       "       -0.85877599, -0.83356075, -0.86643297, -0.78045221, -0.8096542 ,\n",
       "       -0.79230956, -0.84551986, -0.82824105, -0.77582935, -0.73287933,\n",
       "       -0.86321832, -0.74355256, -0.7882157 , -0.79006227, -0.79912888,\n",
       "       -0.86051472, -0.85759665, -0.78479216, -0.82182635, -0.73972257,\n",
       "       -0.81247611, -0.84998837, -0.76857869, -0.82860841, -0.79553994,\n",
       "       -0.77098436, -0.74214503, -0.75754161, -0.77404332, -0.77357716,\n",
       "       -0.73564002, -0.82825643, -0.8702425 , -0.83165699, -0.83935909,\n",
       "       -0.77611284, -0.78011937, -0.78585361, -0.86808681, -0.76657575,\n",
       "       -0.82430925, -0.7756539 , -0.79110813,  0.83423034,  0.73340436,\n",
       "        0.71395293,  1.07098925,  1.11307181,  0.98296271,  0.71831972,\n",
       "        0.86295228,  1.02130195,  1.04594803,  0.72548104,  0.66823317,\n",
       "        1.36958529,  1.17305538,  1.11661005,  0.98307138,  1.27459976,\n",
       "        1.44642694,  1.50528567,  1.28866513,  1.26031743,  1.02295817,\n",
       "        1.27933882,  1.18598059,  1.3813925 ,  1.25767699,  1.1736019 ,\n",
       "        1.09127902,  1.21586925,  1.09223039,  1.13768838,  1.59675342,\n",
       "        1.28904484,  1.33876025,  1.53233922,  1.60141677,  1.38146244,\n",
       "        1.51223576,  1.23588256,  1.22381772,  1.2790048 ,  1.43257027,\n",
       "        1.43808241,  1.22922231,  1.12561563,  1.40974009,  1.12283575,\n",
       "        1.37905941,  1.44731563,  1.45141157,  1.48152744,  1.54954504,\n",
       "        1.33709539,  1.46829683,  1.4050141 ,  1.15859057,  1.06689361,\n",
       "        1.21436719,  1.30466379,  1.40383661,  1.53708371,  1.16457702,\n",
       "        1.12429225,  1.60177134,  1.11431721,  1.32540935,  1.38642273,\n",
       "        1.36124227,  1.10177385,  1.08524575,  1.1128578 ,  1.38643638,\n",
       "        1.36304532,  1.18604649,  1.41628631,  1.52016681,  1.07654239,\n",
       "        1.33670957,  1.44565443,  1.19662931,  1.22823281,  1.40253218,\n",
       "        1.56454005,  1.51438674,  1.38516952,  1.46899077,  1.26076513,\n",
       "        1.41812743,  1.31852542,  1.16110478,  1.45275926,  1.36997393,\n",
       "        1.25723151,  1.57220199,  1.06479764,  1.23281399,  1.08528647,\n",
       "        1.48968441,  1.45297419,  1.24169607,  1.43790453,  1.2785004 ,\n",
       "        1.48382995,  1.31169265,  1.28781332,  1.58553613,  1.19583776,\n",
       "        1.12151008, -0.35250349, -0.26479567, -0.39962031, -0.47160544,\n",
       "       -0.40840388, -0.37042247, -0.44883702, -0.33573617, -0.25831579,\n",
       "       -0.38277522, -0.40488824, -0.39440839, -0.77509723, -0.65253443,\n",
       "       -0.72728022, -0.73167631, -0.6882095 , -0.72293893, -0.69003755,\n",
       "       -0.78366561, -0.6636319 , -0.64340272, -0.68995268, -0.64115899,\n",
       "       -0.83292321, -0.78536741, -0.76722084, -0.77014874, -0.79644794,\n",
       "       -0.80569367, -0.83651316, -0.79786583, -0.83128515, -0.74788262,\n",
       "       -0.82454968, -0.84647101, -0.78825327, -0.78211741, -0.74251058,\n",
       "       -0.7847296 , -0.8178686 , -0.75237369, -0.78998354, -0.85597483,\n",
       "       -0.78632299, -0.73734213, -0.81059211, -0.82490508, -0.84932652,\n",
       "       -0.84818912, -0.80807162, -0.78484064, -0.8582896 , -0.73580158,\n",
       "       -0.76210229, -0.78613203, -0.75164888, -0.85835073, -0.80178754,\n",
       "       -0.77993325, -0.75220135, -0.75863962, -0.83079766, -0.73620985,\n",
       "       -0.85255954, -0.74557822, -0.73192653, -0.84503486, -0.76738913,\n",
       "       -0.86453747, -0.81250829, -0.79671155])"
      ]
     },
     "execution_count": 43,
     "metadata": {},
     "output_type": "execute_result"
    }
   ],
   "source": [
    "# Look at the first element (window) of 'x_train' and use 'flatten' to return \n",
    "# a copy of the array collapsed into one dimension.\n",
    "x_train[0].flatten()"
   ]
  },
  {
   "cell_type": "markdown",
   "id": "c428b69d",
   "metadata": {},
   "source": [
    "Recreate the same plot of df_train_vals as above but with more control over it than we have above."
   ]
  },
  {
   "cell_type": "code",
   "execution_count": 44,
   "id": "84b68605",
   "metadata": {},
   "outputs": [
    {
     "data": {
      "image/png": "[encoded data removed]",
      "text/plain": [
       "<Figure size 864x432 with 1 Axes>"
      ]
     },
     "metadata": {},
     "output_type": "display_data"
    }
   ],
   "source": [
    "# Change this value to look at different windows.\n",
    "window_no = 200\n",
    "\n",
    "# Shortcut for initializing a figure and subplot axes.\n",
    "fig, ax = plt.subplots(figsize=(12, 6))\n",
    "\n",
    "# y values are pulled from the 'df_train_vals' DF.\n",
    "y = df_train_vals['value'].values[:1200]\n",
    "\n",
    "# We want x values that are spaced out by the same interval as the y values.\n",
    "ax.plot(np.arange(y.shape[0]), y, label='signal')\n",
    "\n",
    "# The first window.\n",
    "w = x_train[window_no].flatten()\n",
    "\n",
    "# plot DataFame.\n",
    "ax.plot(np.arange(w.shape[0]) + window_no, w, label='window')\n",
    "\n",
    "ax.legend();"
   ]
  },
  {
   "cell_type": "markdown",
   "id": "bde97f24",
   "metadata": {},
   "source": [
    "## Neural Network"
   ]
  },
  {
   "cell_type": "code",
   "execution_count": 45,
   "id": "af14fe97",
   "metadata": {},
   "outputs": [
    {
     "data": {
      "text/plain": [
       "(3745, 288, 1)"
      ]
     },
     "execution_count": 45,
     "metadata": {},
     "output_type": "execute_result"
    }
   ],
   "source": [
    "x_train.shape"
   ]
  },
  {
   "cell_type": "code",
   "execution_count": 46,
   "id": "f87e09d6",
   "metadata": {},
   "outputs": [],
   "source": [
    "#\n",
    "layers = [\n",
    "  #\n",
    "  keras.layers.Input(shape=(x_train.shape[1], x_train.shape[2])),\n",
    "  #\n",
    "  keras.layers.Conv1D(\n",
    "    filters=32, kernel_size=7, padding=\"same\", strides=2, activation=\"relu\"),\n",
    "  #\n",
    "  keras.layers.Dropout(rate=0.2),\n",
    "  #\n",
    "  keras.layers.Conv1D(\n",
    "    filters=16, kernel_size=7, padding=\"same\", strides=2, activation=\"relu\"),\n",
    "  #\n",
    "  keras.layers.Conv1DTranspose(\n",
    "    filters=16, kernel_size=7, padding=\"same\", strides=2, activation=\"relu\"),\n",
    "  #\n",
    "  keras.layers.Dropout(rate=0.2),\n",
    "  #\n",
    "  keras.layers.Conv1DTranspose(\n",
    "    filters=32, kernel_size=7, padding=\"same\", strides=2, activation=\"relu\"),\n",
    "  #\n",
    "  keras.layers.Conv1DTranspose(filters=1, kernel_size=7, padding=\"same\"),\n",
    "]"
   ]
  },
  {
   "cell_type": "code",
   "execution_count": 47,
   "id": "8fa863b6",
   "metadata": {},
   "outputs": [],
   "source": [
    "#\n",
    "model = keras.Sequential(layers)"
   ]
  },
  {
   "cell_type": "code",
   "execution_count": 48,
   "id": "fa49e7d8",
   "metadata": {},
   "outputs": [],
   "source": [
    "# \n",
    "optimizer = keras.optimizers.Adam(learning_rate=0.001)"
   ]
  },
  {
   "cell_type": "code",
   "execution_count": 49,
   "id": "70a74433",
   "metadata": {},
   "outputs": [],
   "source": [
    "# \n",
    "model.compile(optimizer=optimizer, loss=\"mse\")"
   ]
  },
  {
   "cell_type": "code",
   "execution_count": 50,
   "id": "58a403a6",
   "metadata": {},
   "outputs": [
    {
     "name": "stdout",
     "output_type": "stream",
     "text": [
      "Model: \"sequential\"\n",
      "_________________________________________________________________\n",
      " Layer (type)                Output Shape              Param #   \n",
      "=================================================================\n",
      " conv1d (Conv1D)             (None, 144, 32)           256       \n",
      "                                                                 \n",
      " dropout (Dropout)           (None, 144, 32)           0         \n",
      "                                                                 \n",
      " conv1d_1 (Conv1D)           (None, 72, 16)            3600      \n",
      "                                                                 \n",
      " conv1d_transpose (Conv1DTra  (None, 144, 16)          1808      \n",
      " nspose)                                                         \n",
      "                                                                 \n",
      " dropout_1 (Dropout)         (None, 144, 16)           0         \n",
      "                                                                 \n",
      " conv1d_transpose_1 (Conv1DT  (None, 288, 32)          3616      \n",
      " ranspose)                                                       \n",
      "                                                                 \n",
      " conv1d_transpose_2 (Conv1DT  (None, 288, 1)           225       \n",
      " ranspose)                                                       \n",
      "                                                                 \n",
      "=================================================================\n",
      "Total params: 9,505\n",
      "Trainable params: 9,505\n",
      "Non-trainable params: 0\n",
      "_________________________________________________________________\n"
     ]
    }
   ],
   "source": [
    "model.summary()"
   ]
  },
  {
   "cell_type": "code",
   "execution_count": 51,
   "id": "a0f5573b",
   "metadata": {},
   "outputs": [
    {
     "name": "stdout",
     "output_type": "stream",
     "text": [
      "Epoch 1/50\n",
      "27/27 [==============================] - 2s 32ms/step - loss: 0.5203 - val_loss: 0.0550\n",
      "Epoch 2/50\n",
      "27/27 [==============================] - 1s 25ms/step - loss: 0.0802 - val_loss: 0.0419\n",
      "Epoch 3/50\n",
      "27/27 [==============================] - 1s 25ms/step - loss: 0.0575 - val_loss: 0.0358\n",
      "Epoch 4/50\n",
      "27/27 [==============================] - 1s 24ms/step - loss: 0.0480 - val_loss: 0.0295\n",
      "Epoch 5/50\n",
      "27/27 [==============================] - 1s 25ms/step - loss: 0.0417 - val_loss: 0.0261\n",
      "Epoch 6/50\n",
      "27/27 [==============================] - 1s 26ms/step - loss: 0.0371 - val_loss: 0.0247\n",
      "Epoch 7/50\n",
      "27/27 [==============================] - 1s 25ms/step - loss: 0.0335 - val_loss: 0.0221\n",
      "Epoch 8/50\n",
      "27/27 [==============================] - 1s 25ms/step - loss: 0.0304 - val_loss: 0.0201\n",
      "Epoch 9/50\n",
      "27/27 [==============================] - 1s 24ms/step - loss: 0.0277 - val_loss: 0.0189\n",
      "Epoch 10/50\n",
      "27/27 [==============================] - 1s 24ms/step - loss: 0.0261 - val_loss: 0.0194\n",
      "Epoch 11/50\n",
      "27/27 [==============================] - 1s 26ms/step - loss: 0.0245 - val_loss: 0.0194\n",
      "Epoch 12/50\n",
      "27/27 [==============================] - 1s 25ms/step - loss: 0.0233 - val_loss: 0.0188\n",
      "Epoch 13/50\n",
      "27/27 [==============================] - 1s 25ms/step - loss: 0.0222 - val_loss: 0.0192\n",
      "Epoch 14/50\n",
      "27/27 [==============================] - 1s 26ms/step - loss: 0.0212 - val_loss: 0.0192\n",
      "Epoch 15/50\n",
      "27/27 [==============================] - 1s 25ms/step - loss: 0.0205 - val_loss: 0.0182\n",
      "Epoch 16/50\n",
      "27/27 [==============================] - 1s 25ms/step - loss: 0.0196 - val_loss: 0.0185\n",
      "Epoch 17/50\n",
      "27/27 [==============================] - 1s 26ms/step - loss: 0.0187 - val_loss: 0.0183\n",
      "Epoch 18/50\n",
      "27/27 [==============================] - 1s 26ms/step - loss: 0.0180 - val_loss: 0.0175\n",
      "Epoch 19/50\n",
      "27/27 [==============================] - 1s 25ms/step - loss: 0.0172 - val_loss: 0.0189\n",
      "Epoch 20/50\n",
      "27/27 [==============================] - 1s 25ms/step - loss: 0.0165 - val_loss: 0.0180\n",
      "Epoch 21/50\n",
      "27/27 [==============================] - 1s 25ms/step - loss: 0.0157 - val_loss: 0.0160\n",
      "Epoch 22/50\n",
      "27/27 [==============================] - 1s 24ms/step - loss: 0.0152 - val_loss: 0.0166\n",
      "Epoch 23/50\n",
      "27/27 [==============================] - 1s 25ms/step - loss: 0.0144 - val_loss: 0.0158\n",
      "Epoch 24/50\n",
      "27/27 [==============================] - 1s 25ms/step - loss: 0.0139 - val_loss: 0.0156\n",
      "Epoch 25/50\n",
      "27/27 [==============================] - 1s 25ms/step - loss: 0.0133 - val_loss: 0.0150\n",
      "Epoch 26/50\n",
      "27/27 [==============================] - 1s 25ms/step - loss: 0.0128 - val_loss: 0.0155\n",
      "Epoch 27/50\n",
      "27/27 [==============================] - 1s 24ms/step - loss: 0.0124 - val_loss: 0.0138\n",
      "Epoch 28/50\n",
      "27/27 [==============================] - 1s 25ms/step - loss: 0.0120 - val_loss: 0.0129\n",
      "Epoch 29/50\n",
      "27/27 [==============================] - 1s 25ms/step - loss: 0.0115 - val_loss: 0.0122\n",
      "Epoch 30/50\n",
      "27/27 [==============================] - 1s 24ms/step - loss: 0.0112 - val_loss: 0.0131\n",
      "Epoch 31/50\n",
      "27/27 [==============================] - 1s 25ms/step - loss: 0.0108 - val_loss: 0.0113\n",
      "Epoch 32/50\n",
      "27/27 [==============================] - 1s 25ms/step - loss: 0.0104 - val_loss: 0.0111\n",
      "Epoch 33/50\n",
      "27/27 [==============================] - 1s 25ms/step - loss: 0.0101 - val_loss: 0.0118\n",
      "Epoch 34/50\n",
      "27/27 [==============================] - 1s 25ms/step - loss: 0.0098 - val_loss: 0.0109\n",
      "Epoch 35/50\n",
      "27/27 [==============================] - 1s 25ms/step - loss: 0.0095 - val_loss: 0.0101\n",
      "Epoch 36/50\n",
      "27/27 [==============================] - 1s 25ms/step - loss: 0.0092 - val_loss: 0.0089\n",
      "Epoch 37/50\n",
      "27/27 [==============================] - 1s 25ms/step - loss: 0.0089 - val_loss: 0.0091\n",
      "Epoch 38/50\n",
      "27/27 [==============================] - 1s 25ms/step - loss: 0.0087 - val_loss: 0.0087\n",
      "Epoch 39/50\n",
      "27/27 [==============================] - 1s 25ms/step - loss: 0.0085 - val_loss: 0.0088\n",
      "Epoch 40/50\n",
      "27/27 [==============================] - 1s 25ms/step - loss: 0.0083 - val_loss: 0.0084\n",
      "Epoch 41/50\n",
      "27/27 [==============================] - 1s 25ms/step - loss: 0.0081 - val_loss: 0.0080\n",
      "Epoch 42/50\n",
      "27/27 [==============================] - 1s 25ms/step - loss: 0.0079 - val_loss: 0.0077\n",
      "Epoch 43/50\n",
      "27/27 [==============================] - 1s 25ms/step - loss: 0.0078 - val_loss: 0.0070\n",
      "Epoch 44/50\n",
      "27/27 [==============================] - 1s 25ms/step - loss: 0.0076 - val_loss: 0.0073\n",
      "Epoch 45/50\n",
      "27/27 [==============================] - 1s 25ms/step - loss: 0.0074 - val_loss: 0.0074\n",
      "Epoch 46/50\n",
      "27/27 [==============================] - 1s 25ms/step - loss: 0.0073 - val_loss: 0.0071\n",
      "Epoch 47/50\n",
      "27/27 [==============================] - 1s 24ms/step - loss: 0.0071 - val_loss: 0.0071\n",
      "Epoch 48/50\n",
      "27/27 [==============================] - 1s 25ms/step - loss: 0.0070 - val_loss: 0.0072\n"
     ]
    }
   ],
   "source": [
    "# \n",
    "history = model.fit(\n",
    "    x_train,\n",
    "    x_train,\n",
    "    epochs=50,\n",
    "    batch_size=128,\n",
    "    validation_split=0.1,\n",
    "    callbacks=[\n",
    "        keras.callbacks.EarlyStopping(monitor=\"val_loss\", patience=5, mode=\"min\")\n",
    "    ],\n",
    ")\n"
   ]
  },
  {
   "cell_type": "markdown",
   "id": "08a9acb8",
   "metadata": {},
   "source": [
    "## Evaluation\n",
    "\n",
    "***"
   ]
  },
  {
   "cell_type": "code",
   "execution_count": 52,
   "id": "09c3be51",
   "metadata": {},
   "outputs": [
    {
     "data": {
      "text/plain": [
       "[0.5202952027320862,\n",
       " 0.08019455522298813,\n",
       " 0.05749987065792084,\n",
       " 0.04804003983736038,\n",
       " 0.04165344312787056,\n",
       " 0.037064824253320694,\n",
       " 0.03350480645895004,\n",
       " 0.030366722494363785,\n",
       " 0.02774510346353054,\n",
       " 0.02611313946545124,\n",
       " 0.02453131228685379,\n",
       " 0.023318573832511902,\n",
       " 0.022204652428627014,\n",
       " 0.02122686058282852,\n",
       " 0.020467469468712807,\n",
       " 0.019558502361178398,\n",
       " 0.018683677539229393,\n",
       " 0.017974073067307472,\n",
       " 0.017177846282720566,\n",
       " 0.01650717481970787,\n",
       " 0.01573498174548149,\n",
       " 0.015165852382779121,\n",
       " 0.014437953010201454,\n",
       " 0.013897379860281944,\n",
       " 0.013311455026268959,\n",
       " 0.012827166356146336,\n",
       " 0.012412721291184425,\n",
       " 0.011997239664196968,\n",
       " 0.011532875709235668,\n",
       " 0.011156553402543068,\n",
       " 0.010783500969409943,\n",
       " 0.010447791777551174,\n",
       " 0.010102570988237858,\n",
       " 0.009813917800784111,\n",
       " 0.009456031955778599,\n",
       " 0.009236257523298264,\n",
       " 0.008942282758653164,\n",
       " 0.008734367787837982,\n",
       " 0.008542385883629322,\n",
       " 0.008250481449067593,\n",
       " 0.008059116080403328,\n",
       " 0.007928543724119663,\n",
       " 0.007772872224450111,\n",
       " 0.0075650145299732685,\n",
       " 0.007398686371743679,\n",
       " 0.0072602457366883755,\n",
       " 0.007072798442095518,\n",
       " 0.006962565705180168]"
      ]
     },
     "execution_count": 52,
     "metadata": {},
     "output_type": "execute_result"
    }
   ],
   "source": [
    "history.history[\"loss\"]"
   ]
  },
  {
   "cell_type": "code",
   "execution_count": 53,
   "id": "d7433fd7",
   "metadata": {},
   "outputs": [
    {
     "data": {
      "text/plain": [
       "[0.054951928555965424,\n",
       " 0.041940297931432724,\n",
       " 0.035840943455696106,\n",
       " 0.02950367145240307,\n",
       " 0.026120951399207115,\n",
       " 0.024731308221817017,\n",
       " 0.022112281993031502,\n",
       " 0.020083913579583168,\n",
       " 0.01886463351547718,\n",
       " 0.019387122243642807,\n",
       " 0.01938895508646965,\n",
       " 0.01882244274020195,\n",
       " 0.01917911320924759,\n",
       " 0.01915919780731201,\n",
       " 0.01817088946700096,\n",
       " 0.018513064831495285,\n",
       " 0.018268732354044914,\n",
       " 0.017460022121667862,\n",
       " 0.018887069076299667,\n",
       " 0.0180123969912529,\n",
       " 0.015982424840331078,\n",
       " 0.01655767671763897,\n",
       " 0.01582486182451248,\n",
       " 0.01555707398802042,\n",
       " 0.015011752024292946,\n",
       " 0.015479966066777706,\n",
       " 0.013816788792610168,\n",
       " 0.0129087520763278,\n",
       " 0.012161011807620525,\n",
       " 0.013110007159411907,\n",
       " 0.011310991831123829,\n",
       " 0.011133830063045025,\n",
       " 0.01178787276148796,\n",
       " 0.010909225791692734,\n",
       " 0.010129095986485481,\n",
       " 0.008930756710469723,\n",
       " 0.009126689285039902,\n",
       " 0.008710576221346855,\n",
       " 0.00875032413750887,\n",
       " 0.008364520035684109,\n",
       " 0.007955117151141167,\n",
       " 0.007722306065261364,\n",
       " 0.007029586937278509,\n",
       " 0.007266804575920105,\n",
       " 0.007425529416650534,\n",
       " 0.007074638269841671,\n",
       " 0.007145860698074102,\n",
       " 0.007205665577203035]"
      ]
     },
     "execution_count": 53,
     "metadata": {},
     "output_type": "execute_result"
    }
   ],
   "source": [
    "history.history[\"val_loss\"]"
   ]
  },
  {
   "cell_type": "code",
   "execution_count": 54,
   "id": "2341f8ea",
   "metadata": {},
   "outputs": [
    {
     "data": {
      "image/png": "[encoded data removed]",
      "text/plain": [
       "<Figure size 720x432 with 1 Axes>"
      ]
     },
     "metadata": {},
     "output_type": "display_data"
    }
   ],
   "source": [
    "# \n",
    "fig, ax = plt.subplots(figsize=(10, 6))\n",
    "# \n",
    "ax.plot(history.history[\"loss\"], label=\"Training Loss\")\n",
    "# \n",
    "ax.plot(history.history[\"val_loss\"], label=\"Validation Loss\")\n",
    "# \n",
    "ax.legend();"
   ]
  },
  {
   "cell_type": "code",
   "execution_count": 55,
   "id": "6050b716",
   "metadata": {},
   "outputs": [
    {
     "name": "stdout",
     "output_type": "stream",
     "text": [
      "118/118 [==============================] - 0s 3ms/step\n"
     ]
    }
   ],
   "source": [
    "# Get train MAE loss.\n",
    "x_train_pred = model.predict(x_train)"
   ]
  },
  {
   "cell_type": "code",
   "execution_count": 56,
   "id": "206217d0",
   "metadata": {},
   "outputs": [],
   "source": [
    "# Calculate loss...\n",
    "train_mae_loss = np.mean(np.abs(x_train_pred - x_train), axis=1)"
   ]
  },
  {
   "cell_type": "code",
   "execution_count": 57,
   "id": "e3ade891",
   "metadata": {},
   "outputs": [
    {
     "data": {
      "image/png": "[encoded data removed]",
      "text/plain": [
       "<Figure size 720x432 with 1 Axes>"
      ]
     },
     "metadata": {},
     "output_type": "display_data"
    }
   ],
   "source": [
    "# \n",
    "fig, ax = plt.subplots(figsize=(10, 6))\n",
    "# \n",
    "ax.hist(train_mae_loss, bins=50)\n",
    "# \n",
    "ax.set_xlabel(\"Train MAE loss\")\n",
    "#\n",
    "ax.set_ylabel(\"No of samples\");"
   ]
  },
  {
   "cell_type": "code",
   "execution_count": 58,
   "id": "b9a98e72",
   "metadata": {},
   "outputs": [
    {
     "data": {
      "text/plain": [
       "0.07545965667426847"
      ]
     },
     "execution_count": 58,
     "metadata": {},
     "output_type": "execute_result"
    }
   ],
   "source": [
    "# Get reconstruction loss threshold.\n",
    "threshold = np.max(train_mae_loss)\n",
    "\n",
    "# \n",
    "threshold"
   ]
  },
  {
   "cell_type": "code",
   "execution_count": 59,
   "id": "800d587e",
   "metadata": {},
   "outputs": [
    {
     "data": {
      "image/png": "[encoded data removed]",
      "text/plain": [
       "<Figure size 720x432 with 1 Axes>"
      ]
     },
     "metadata": {},
     "output_type": "display_data"
    }
   ],
   "source": [
    "# \n",
    "fig, ax = plt.subplots(figsize=(10, 6))\n",
    "\n",
    "# \n",
    "ax.plot(x_train[0])\n",
    "\n",
    "# \n",
    "ax.plot(x_train_pred[0]);"
   ]
  },
  {
   "cell_type": "code",
   "execution_count": 60,
   "id": "b5dbf65b",
   "metadata": {},
   "outputs": [],
   "source": [
    "# \n",
    "df_test_value = (df_daily_jumpsup - train_mean) / train_std"
   ]
  },
  {
   "cell_type": "code",
   "execution_count": 61,
   "id": "ad50dab4",
   "metadata": {},
   "outputs": [
    {
     "data": {
      "image/png": "[encoded data removed]",
      "text/plain": [
       "<Figure size 720x432 with 1 Axes>"
      ]
     },
     "metadata": {},
     "output_type": "display_data"
    }
   ],
   "source": [
    "# \n",
    "fig, ax = plt.subplots(figsize=(10, 6))\n",
    "\n",
    "# \n",
    "df_test_value.plot(legend=False, ax=ax);"
   ]
  },
  {
   "cell_type": "code",
   "execution_count": 62,
   "id": "c678955e",
   "metadata": {},
   "outputs": [
    {
     "data": {
      "text/plain": [
       "(3745, 288, 1)"
      ]
     },
     "execution_count": 62,
     "metadata": {},
     "output_type": "execute_result"
    }
   ],
   "source": [
    "# Create sequences from test values.\n",
    "x_test = windows(df_test_value.values)\n",
    "\n",
    "x_test.shape"
   ]
  },
  {
   "cell_type": "code",
   "execution_count": 63,
   "id": "dbaa31df",
   "metadata": {},
   "outputs": [
    {
     "name": "stdout",
     "output_type": "stream",
     "text": [
      "118/118 [==============================] - 0s 3ms/step\n"
     ]
    }
   ],
   "source": [
    "# \n",
    "x_test_pred = model.predict(x_test)"
   ]
  },
  {
   "cell_type": "code",
   "execution_count": 64,
   "id": "9711d090",
   "metadata": {},
   "outputs": [
    {
     "data": {
      "text/plain": [
       "array([[0.06151581],\n",
       "       [0.06044581],\n",
       "       [0.06244584],\n",
       "       ...,\n",
       "       [0.06147136],\n",
       "       [0.06437658],\n",
       "       [0.06310797]])"
      ]
     },
     "execution_count": 64,
     "metadata": {},
     "output_type": "execute_result"
    }
   ],
   "source": [
    "# \n",
    "test_mae_loss = np.mean(np.abs(x_test_pred - x_test), axis=1)\n",
    "\n",
    "test_mae_loss"
   ]
  },
  {
   "cell_type": "code",
   "execution_count": 65,
   "id": "ecf8f2ec",
   "metadata": {},
   "outputs": [
    {
     "data": {
      "text/plain": [
       "array([0.06151581, 0.06044581, 0.06244584, ..., 0.06147136, 0.06437658,\n",
       "       0.06310797])"
      ]
     },
     "execution_count": 65,
     "metadata": {},
     "output_type": "execute_result"
    }
   ],
   "source": [
    "# \n",
    "test_mae_loss = test_mae_loss.reshape((-1))\n",
    "\n",
    "test_mae_loss"
   ]
  },
  {
   "cell_type": "code",
   "execution_count": 66,
   "id": "2348640a",
   "metadata": {},
   "outputs": [
    {
     "data": {
      "image/png": "[encoded data removed]",
      "text/plain": [
       "<Figure size 720x432 with 1 Axes>"
      ]
     },
     "metadata": {},
     "output_type": "display_data"
    }
   ],
   "source": [
    "# \n",
    "fig, ax = plt.subplots(figsize=(10, 6))\n",
    "\n",
    "#\n",
    "ax.hist(test_mae_loss, bins=50)\n",
    "\n",
    "# \n",
    "ax.set_xlabel(\"test MAE loss\")\n",
    "\n",
    "# \n",
    "ax.set_ylabel(\"No of samples\");"
   ]
  },
  {
   "cell_type": "code",
   "execution_count": 67,
   "id": "544f4588",
   "metadata": {},
   "outputs": [
    {
     "data": {
      "text/plain": [
       "420"
      ]
     },
     "execution_count": 67,
     "metadata": {},
     "output_type": "execute_result"
    }
   ],
   "source": [
    "# Detect all the samples which are anomalies.\n",
    "anomalies = test_mae_loss > threshold\n",
    "\n",
    "# NUmber of anomalies.\n",
    "np.sum(anomalies)"
   ]
  },
  {
   "cell_type": "code",
   "execution_count": 68,
   "id": "8e06df4f",
   "metadata": {},
   "outputs": [],
   "source": [
    "# data i is an anomaly if samples [(i - timesteps + 1) to (i)] are anomalies\n",
    "inds = []\n",
    "\n",
    "for i in range(window_size - 1, len(df_test_value) - window_size + 1):\n",
    "    if np.all(anomalies[i - window_size + 1 : i]):\n",
    "        inds.append(i)"
   ]
  },
  {
   "cell_type": "code",
   "execution_count": 69,
   "id": "27bff455",
   "metadata": {},
   "outputs": [],
   "source": [
    "# \n",
    "df_subset = df_daily_jumpsup.iloc[inds]"
   ]
  },
  {
   "cell_type": "code",
   "execution_count": 70,
   "id": "36d603af",
   "metadata": {},
   "outputs": [
    {
     "data": {
      "image/png": "[encoded data removed]",
      "text/plain": [
       "<Figure size 720x432 with 1 Axes>"
      ]
     },
     "metadata": {},
     "output_type": "display_data"
    }
   ],
   "source": [
    "#\n",
    "fig, ax = plt.subplots(figsize=(10, 6))\n",
    "\n",
    "# \n",
    "df_daily_jumpsup.plot(legend=False, ax=ax)\n",
    "\n",
    "# \n",
    "df_subset.plot(legend=False, ax=ax, color=\"r\");"
   ]
  },
  {
   "cell_type": "markdown",
   "id": "1aa7c70d",
   "metadata": {},
   "source": [
    "***\n",
    "\n",
    "## References\n",
    "\n",
    "***"
   ]
  },
  {
   "cell_type": "markdown",
   "id": "864dbb87",
   "metadata": {},
   "source": [
    "[01] []()<br>\n",
    "[02] []()<br>\n",
    "[03] []()<br>\n",
    "[04] []()<br>\n",
    "[05] []()<br>\n",
    "[06] []()<br>\n",
    "[07] []()<br>\n",
    "[08] []()<br>\n",
    "[09] []()<br>\n",
    "[10] []()<br>\n",
    "[11] []()<br>\n",
    "[12] []()<br>\n",
    "[14] []()<br>\n",
    "[15] []()<br>"
   ]
  },
  {
   "cell_type": "code",
   "execution_count": null,
   "id": "b5d36952",
   "metadata": {},
   "outputs": [],
   "source": []
  }
 ],
 "metadata": {
  "kernelspec": {
   "display_name": "Python 3 (ipykernel)",
   "language": "python",
   "name": "python3"
  },
  "language_info": {
   "codemirror_mode": {
    "name": "ipython",
    "version": 3
   },
   "file_extension": ".py",
   "mimetype": "text/x-python",
   "name": "python",
   "nbconvert_exporter": "python",
   "pygments_lexer": "ipython3",
   "version": "3.9.4"
  }
 },
 "nbformat": 4,
 "nbformat_minor": 5
}
