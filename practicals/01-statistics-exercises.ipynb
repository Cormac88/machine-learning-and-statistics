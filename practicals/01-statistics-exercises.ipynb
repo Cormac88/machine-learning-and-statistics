{
 "cells": [
  {
   "cell_type": "markdown",
   "id": "521c0eec",
   "metadata": {},
   "source": [
    "# Exercise 1\n",
    "\n",
    "***"
   ]
  },
  {
   "cell_type": "markdown",
   "id": "4163288d",
   "metadata": {},
   "source": [
    "## Part 1\n",
    "\n",
    "***"
   ]
  },
  {
   "cell_type": "markdown",
   "id": "48cf7cca",
   "metadata": {},
   "source": [
    "### Calculate the minimum number of cups of tea required to ensure the probability of randomly selecting the correct cups is less than or equal to 1%.\n",
    "<br>\n",
    "\n",
    "***"
   ]
  },
  {
   "cell_type": "code",
   "execution_count": 1,
   "id": "4a9f5b30",
   "metadata": {},
   "outputs": [],
   "source": [
    "# Efficient numerical arrays.\n",
    "import numpy as np\n",
    "\n",
    "# Data frames.\n",
    "import pandas as pd\n",
    "\n",
    "# Alternative statistics package.\n",
    "import statsmodels.stats.weightstats as stat\n",
    "\n",
    "# Mains statistics package.\n",
    "import scipy.stats as stats\n",
    "\n",
    "# Show combinations\n",
    "import itertools\n",
    "\n",
    "# Generate random numbers\n",
    "import random\n",
    "\n",
    "# Plotting.\n",
    "import matplotlib.pyplot as plt\n",
    "\n",
    "# Fancier plotting.\n",
    "import seaborn as sns\n",
    "\n",
    "# Better sized plots.\n",
    "plt.rcParams['figure.figsize'] = (12, 8)\n",
    "\n",
    "# Nicer colours and styles for plots.\n",
    "plt.style.use(\"ggplot\")"
   ]
  },
  {
   "cell_type": "markdown",
   "id": "fbb54408",
   "metadata": {},
   "source": [
    "The lady tea test is a simple count of the number of successes in selecting the 4 cups (the number of cups of the given type successfully selected). The distribution of possible numbers of successes can be computed using the number of combinations. Using the combination formula, with n=8 total cups and k=4 cups chosen, there are:"
   ]
  },
  {
   "cell_type": "markdown",
   "id": "9278a195",
   "metadata": {},
   "source": [
    "<br>\n",
    "$${8 \\choose 4} = \\frac{8!}{4!(8-4)!} = 70$$<br>\n",
    "<br>\n",
    "possible combinations.\n",
    "Here, the first part of the equation means 8 choose 4.[02] "
   ]
  },
  {
   "cell_type": "markdown",
   "id": "4a22908e",
   "metadata": {},
   "source": [
    "![lady_tea](img/lady_tea.png)"
   ]
  },
  {
   "cell_type": "markdown",
   "id": "e2a28564",
   "metadata": {},
   "source": [
    "**Fig 1:** Possible outcomes of the \"lady tasting tea\" experiment."
   ]
  },
  {
   "cell_type": "markdown",
   "id": "34f1d064",
   "metadata": {},
   "source": [
    "The following is adapted from https://stackoverflow.com/a/4941932"
   ]
  },
  {
   "cell_type": "markdown",
   "id": "40ea1394",
   "metadata": {},
   "source": [
    "We must first import the math module of python becuase we are going to need the math.comb method."
   ]
  },
  {
   "cell_type": "code",
   "execution_count": 2,
   "id": "287ec4e2",
   "metadata": {},
   "outputs": [],
   "source": [
    "# Math module.\n",
    "import math"
   ]
  },
  {
   "cell_type": "markdown",
   "id": "f1d886d0",
   "metadata": {},
   "source": [
    "The math.comb() method, also known as combinations, returns the number of ways to choose k unordered outcomes from n possibilities without repetition.[01]\n",
    "\n",
    "**Parameters**\n",
    "\n",
    "**n**: The positive integers of items from which to choose\n",
    "\n",
    "**k**: The positive integers of items to choose"
   ]
  },
  {
   "cell_type": "code",
   "execution_count": 3,
   "id": "efc082f2",
   "metadata": {},
   "outputs": [
    {
     "data": {
      "text/plain": [
       "70"
      ]
     },
     "execution_count": 3,
     "metadata": {},
     "output_type": "execute_result"
    }
   ],
   "source": [
    "# Number of ways of selecting 4 cups from 8.\n",
    "math.comb(8, 4)"
   ]
  },
  {
   "cell_type": "markdown",
   "id": "69d31a5f",
   "metadata": {},
   "source": [
    "This is another way of writing the mathematical formula above, but this time using python.<br>\n",
    "The probability of randomly selecting the correct 4 cups is:"
   ]
  },
  {
   "cell_type": "code",
   "execution_count": 4,
   "id": "4bfbd468",
   "metadata": {},
   "outputs": [
    {
     "data": {
      "text/plain": [
       "0.014285714285714285"
      ]
     },
     "execution_count": 4,
     "metadata": {},
     "output_type": "execute_result"
    }
   ],
   "source": [
    "1.0 / math.comb(8, 4)"
   ]
  },
  {
   "cell_type": "markdown",
   "id": "eade00a2",
   "metadata": {},
   "source": [
    "We can say that if the experiment was done with 8 cups total, four with milk in first and four with tea in first, then the chance of selecting correctly randomly is about 1.5%. <br>\n",
    "Now let's have a look at the number of ways of selecting 5 cups from 10."
   ]
  },
  {
   "cell_type": "code",
   "execution_count": 5,
   "id": "709845b5",
   "metadata": {},
   "outputs": [
    {
     "data": {
      "text/plain": [
       "252"
      ]
     },
     "execution_count": 5,
     "metadata": {},
     "output_type": "execute_result"
    }
   ],
   "source": [
    "math.comb(10, 5)"
   ]
  },
  {
   "cell_type": "markdown",
   "id": "8d03d79d",
   "metadata": {},
   "source": [
    "The probability of randomly selecting correct 5 cups is:"
   ]
  },
  {
   "cell_type": "code",
   "execution_count": 6,
   "id": "270080c1",
   "metadata": {},
   "outputs": [
    {
     "data": {
      "text/plain": [
       "0.003968253968253968"
      ]
     },
     "execution_count": 6,
     "metadata": {},
     "output_type": "execute_result"
    }
   ],
   "source": [
    "1.0 / math.comb(10, 5)"
   ]
  },
  {
   "cell_type": "markdown",
   "id": "b960f15d",
   "metadata": {},
   "source": [
    "So, if the experiment was done with 10 cups total, five with milk in first and five with tea in first, then the chance of selecting correctly randomly is much less than 1%."
   ]
  },
  {
   "cell_type": "markdown",
   "id": "4326a0cb",
   "metadata": {},
   "source": [
    "Of course, we could design the experiment to have 9 cups in total, with 4 with milk in first and 5 with tea in first - or vice versa."
   ]
  },
  {
   "cell_type": "code",
   "execution_count": 7,
   "id": "c23f2023",
   "metadata": {},
   "outputs": [
    {
     "data": {
      "text/plain": [
       "126"
      ]
     },
     "execution_count": 7,
     "metadata": {},
     "output_type": "execute_result"
    }
   ],
   "source": [
    "# Number of ways of selecting 4 cups from 9.\n",
    "math.comb(9, 4)"
   ]
  },
  {
   "cell_type": "code",
   "execution_count": 8,
   "id": "6c3720d3",
   "metadata": {},
   "outputs": [
    {
     "data": {
      "text/plain": [
       "0.007936507936507936"
      ]
     },
     "execution_count": 8,
     "metadata": {},
     "output_type": "execute_result"
    }
   ],
   "source": [
    "# The probability is then:\n",
    "1.0 / math.comb(9, 4)"
   ]
  },
  {
   "cell_type": "markdown",
   "id": "3b71da86",
   "metadata": {},
   "source": [
    "This is less than 1% too."
   ]
  },
  {
   "cell_type": "markdown",
   "id": "d90343b8",
   "metadata": {},
   "source": [
    "Note that the number of ways of selecting 5 cups from 9 is:"
   ]
  },
  {
   "cell_type": "code",
   "execution_count": 9,
   "id": "02db3874",
   "metadata": {},
   "outputs": [
    {
     "data": {
      "text/plain": [
       "126"
      ]
     },
     "execution_count": 9,
     "metadata": {},
     "output_type": "execute_result"
    }
   ],
   "source": [
    "math.comb(9, 5)"
   ]
  },
  {
   "cell_type": "markdown",
   "id": "2418a048",
   "metadata": {},
   "source": [
    "This is because with 9 cups, we are segregating them into groups of 4 and 5. 4 with the milk in first and 5 with the tea in first or vice versa. So 9 choose 4 is the same as 9 choose 5 because of the way that the 2 groups of cups are separated."
   ]
  },
  {
   "cell_type": "markdown",
   "id": "8b9f0078",
   "metadata": {},
   "source": [
    "\n",
    "### *Bonus Question:* How many would be required if you were to let the taster get one cup wrong while maintaining the 1% threshold?"
   ]
  },
  {
   "cell_type": "markdown",
   "id": "b34ba1af",
   "metadata": {},
   "source": [
    "As per above, the number of ways of selecting 4 cups from 8 is:"
   ]
  },
  {
   "cell_type": "code",
   "execution_count": 10,
   "id": "4564c948",
   "metadata": {},
   "outputs": [
    {
     "data": {
      "text/plain": [
       "70"
      ]
     },
     "execution_count": 10,
     "metadata": {},
     "output_type": "execute_result"
    }
   ],
   "source": [
    "math.comb(8, 4)"
   ]
  },
  {
   "cell_type": "markdown",
   "id": "c620e666",
   "metadata": {},
   "source": [
    "For the lady to get all 4 cups correct, there is clearly only one set of four choices (namely, choosing all four correct cups). This is where the 1 comes from in the numerator:"
   ]
  },
  {
   "cell_type": "code",
   "execution_count": 11,
   "id": "5c8ae702",
   "metadata": {},
   "outputs": [
    {
     "data": {
      "text/plain": [
       "0.014285714285714285"
      ]
     },
     "execution_count": 11,
     "metadata": {},
     "output_type": "execute_result"
    }
   ],
   "source": [
    "1.0/70.0"
   ]
  },
  {
   "cell_type": "markdown",
   "id": "55b9ab33",
   "metadata": {},
   "source": [
    "But to allow the lady to get one cup wrong, the sets of for choices are 4 choose 3 and 4 choose 1. "
   ]
  },
  {
   "cell_type": "code",
   "execution_count": 12,
   "id": "2abb6e9a",
   "metadata": {},
   "outputs": [
    {
     "data": {
      "text/plain": [
       "4"
      ]
     },
     "execution_count": 12,
     "metadata": {},
     "output_type": "execute_result"
    }
   ],
   "source": [
    "math.comb(4, 3)"
   ]
  },
  {
   "cell_type": "code",
   "execution_count": 13,
   "id": "d0f27157",
   "metadata": {},
   "outputs": [
    {
     "data": {
      "text/plain": [
       "4"
      ]
     },
     "execution_count": 13,
     "metadata": {},
     "output_type": "execute_result"
    }
   ],
   "source": [
    "math.comb(4, 1)"
   ]
  },
  {
   "cell_type": "markdown",
   "id": "a2da4cf1",
   "metadata": {},
   "source": [
    "Thus a selection of any one correct cup and any three correct cups can occur in any of 4×4 = 16 ways. [03]"
   ]
  },
  {
   "cell_type": "code",
   "execution_count": null,
   "id": "f8bd9f0f",
   "metadata": {},
   "outputs": [],
   "source": []
  },
  {
   "cell_type": "code",
   "execution_count": 14,
   "id": "3badac4e",
   "metadata": {},
   "outputs": [
    {
     "data": {
      "text/plain": [
       "0.22857142857142856"
      ]
     },
     "execution_count": 14,
     "metadata": {},
     "output_type": "execute_result"
    }
   ],
   "source": [
    "16.0/70.0"
   ]
  },
  {
   "cell_type": "markdown",
   "id": "3ad1ea0d",
   "metadata": {},
   "source": [
    "Therefore, the lady has a greater than 20% chance to get 3/4 cups correct. For the lady to get one cup wrong while maintaining the 1% threshold, the number of cups would have to be increased in the experiment. Let's try with 10 cups overall.[03]"
   ]
  },
  {
   "cell_type": "code",
   "execution_count": 15,
   "id": "3ebdbeeb",
   "metadata": {},
   "outputs": [
    {
     "data": {
      "text/plain": [
       "252"
      ]
     },
     "execution_count": 15,
     "metadata": {},
     "output_type": "execute_result"
    }
   ],
   "source": [
    "math.comb(10, 5)"
   ]
  },
  {
   "cell_type": "markdown",
   "id": "c3500516",
   "metadata": {},
   "source": [
    "To allow the lady to get one cup wrong, the sets of for choices are 5 choose 4 and 5 choose 1. "
   ]
  },
  {
   "cell_type": "code",
   "execution_count": 16,
   "id": "b826710e",
   "metadata": {},
   "outputs": [
    {
     "data": {
      "text/plain": [
       "5"
      ]
     },
     "execution_count": 16,
     "metadata": {},
     "output_type": "execute_result"
    }
   ],
   "source": [
    "math.comb(5, 4)"
   ]
  },
  {
   "cell_type": "code",
   "execution_count": 17,
   "id": "884a9c34",
   "metadata": {},
   "outputs": [
    {
     "data": {
      "text/plain": [
       "5"
      ]
     },
     "execution_count": 17,
     "metadata": {},
     "output_type": "execute_result"
    }
   ],
   "source": [
    "math.comb(5, 1)"
   ]
  },
  {
   "cell_type": "markdown",
   "id": "54163c7c",
   "metadata": {},
   "source": [
    "Thus a selection of any one correct cup and any four correct cups can occur in any of 5×5 = 25 ways. [03]"
   ]
  },
  {
   "cell_type": "code",
   "execution_count": 18,
   "id": "9c19522e",
   "metadata": {},
   "outputs": [
    {
     "data": {
      "text/plain": [
       "0.0992063492063492"
      ]
     },
     "execution_count": 18,
     "metadata": {},
     "output_type": "execute_result"
    }
   ],
   "source": [
    "25.0/252.0"
   ]
  },
  {
   "cell_type": "markdown",
   "id": "9b0934d4",
   "metadata": {},
   "source": [
    "The lady has less around 10% chance to get 4/5 cups correct."
   ]
  },
  {
   "cell_type": "markdown",
   "id": "a2dd97e3",
   "metadata": {},
   "source": [
    "Let's try with 12 cups. "
   ]
  },
  {
   "cell_type": "code",
   "execution_count": 19,
   "id": "0f58cde9",
   "metadata": {},
   "outputs": [
    {
     "data": {
      "text/plain": [
       "924"
      ]
     },
     "execution_count": 19,
     "metadata": {},
     "output_type": "execute_result"
    }
   ],
   "source": [
    "math.comb(12, 6)"
   ]
  },
  {
   "cell_type": "code",
   "execution_count": 20,
   "id": "15cc6bc6",
   "metadata": {},
   "outputs": [
    {
     "data": {
      "text/plain": [
       "6"
      ]
     },
     "execution_count": 20,
     "metadata": {},
     "output_type": "execute_result"
    }
   ],
   "source": [
    "math.comb(6, 5)"
   ]
  },
  {
   "cell_type": "code",
   "execution_count": 21,
   "id": "7b899bbc",
   "metadata": {},
   "outputs": [
    {
     "data": {
      "text/plain": [
       "6"
      ]
     },
     "execution_count": 21,
     "metadata": {},
     "output_type": "execute_result"
    }
   ],
   "source": [
    "math.comb(6, 1)"
   ]
  },
  {
   "cell_type": "markdown",
   "id": "9936bd4b",
   "metadata": {},
   "source": [
    "Thus a selection of any one correct cup and any four correct cups can occur in any of 6×6 = 36 ways. [03]"
   ]
  },
  {
   "cell_type": "code",
   "execution_count": 22,
   "id": "228ee549",
   "metadata": {},
   "outputs": [
    {
     "data": {
      "text/plain": [
       "0.03896103896103896"
      ]
     },
     "execution_count": 22,
     "metadata": {},
     "output_type": "execute_result"
    }
   ],
   "source": [
    "36.0/924.0"
   ]
  },
  {
   "cell_type": "markdown",
   "id": "50b56b7d",
   "metadata": {},
   "source": [
    "The lady has less around 3% chance to get 5/6 cups correct."
   ]
  },
  {
   "cell_type": "markdown",
   "id": "5967f8d0",
   "metadata": {},
   "source": [
    "Let's bump the number of cups up to 16. "
   ]
  },
  {
   "cell_type": "code",
   "execution_count": 23,
   "id": "ba8f1be0",
   "metadata": {},
   "outputs": [
    {
     "data": {
      "text/plain": [
       "12870"
      ]
     },
     "execution_count": 23,
     "metadata": {},
     "output_type": "execute_result"
    }
   ],
   "source": [
    "math.comb(16, 8)"
   ]
  },
  {
   "cell_type": "code",
   "execution_count": 24,
   "id": "07e7b430",
   "metadata": {},
   "outputs": [
    {
     "data": {
      "text/plain": [
       "8"
      ]
     },
     "execution_count": 24,
     "metadata": {},
     "output_type": "execute_result"
    }
   ],
   "source": [
    "math.comb(8, 7)"
   ]
  },
  {
   "cell_type": "code",
   "execution_count": 25,
   "id": "83b3345d",
   "metadata": {},
   "outputs": [
    {
     "data": {
      "text/plain": [
       "8"
      ]
     },
     "execution_count": 25,
     "metadata": {},
     "output_type": "execute_result"
    }
   ],
   "source": [
    "math.comb(8, 1)"
   ]
  },
  {
   "cell_type": "markdown",
   "id": "a74decd9",
   "metadata": {},
   "source": [
    "Thus a selection of any one correct cup and any four correct cups can occur in any of 8×8 = 64 ways. [03]"
   ]
  },
  {
   "cell_type": "code",
   "execution_count": 26,
   "id": "c8767377",
   "metadata": {},
   "outputs": [
    {
     "data": {
      "text/plain": [
       "0.004972804972804973"
      ]
     },
     "execution_count": 26,
     "metadata": {},
     "output_type": "execute_result"
    }
   ],
   "source": [
    "64.0/12870.0"
   ]
  },
  {
   "cell_type": "markdown",
   "id": "dc000df0",
   "metadata": {},
   "source": [
    "The lady has less around 0.5% chance to get 7/8 cups correct."
   ]
  },
  {
   "cell_type": "markdown",
   "id": "53c4e0dd",
   "metadata": {},
   "source": [
    "Now let's see if we do some code to generate a visuallisation of this."
   ]
  },
  {
   "cell_type": "markdown",
   "id": "8510e826",
   "metadata": {},
   "source": [
    "Below we have given each of the eight cups a label from 0 to 15. Note that the cups have no order in the experiment, we are labelling them with integers simply for convenience."
   ]
  },
  {
   "cell_type": "code",
   "execution_count": 27,
   "id": "b25722bd",
   "metadata": {},
   "outputs": [
    {
     "data": {
      "text/plain": [
       "[0, 1, 2, 3, 4, 5, 6, 7, 8, 9, 10, 11, 12, 13, 14, 15]"
      ]
     },
     "execution_count": 27,
     "metadata": {},
     "output_type": "execute_result"
    }
   ],
   "source": [
    "# The 16 cups.\n",
    "\n",
    "cups = list(range(16))\n",
    "cups"
   ]
  },
  {
   "cell_type": "markdown",
   "id": "36bc15e6",
   "metadata": {},
   "source": [
    "We can now store the possibilities that can be enumerated using the combinations function from the itertools Python package in a variable called `poss`.[08]"
   ]
  },
  {
   "cell_type": "code",
   "execution_count": 28,
   "id": "f388c1f2",
   "metadata": {},
   "outputs": [],
   "source": [
    "poss = list(itertools.combinations(cups, 8))"
   ]
  },
  {
   "cell_type": "code",
   "execution_count": 29,
   "id": "97f269d3",
   "metadata": {},
   "outputs": [
    {
     "data": {
      "image/png": "[encoded data removed]",
      "text/plain": [
       "<Figure size 864x576 with 1 Axes>"
      ]
     },
     "metadata": {},
     "output_type": "display_data"
    }
   ],
   "source": [
    "# Pick a random correct answer from the list of 70 to simulate the experiment.\n",
    "milkfirst = set(random.choice(poss))\n",
    "\n",
    "# Count the overlap between the correct answer, and each of the 70 possiblities.\n",
    "counts = [len(milkfirst & set(i)) for i in itertools.combinations(cups, 8)]\n",
    "\n",
    "# Creat the plot.\n",
    "sns.countplot(x=counts);"
   ]
  },
  {
   "cell_type": "markdown",
   "id": "621fc871",
   "metadata": {},
   "source": [
    "## Part 2\n",
    "\n",
    "***"
   ]
  },
  {
   "cell_type": "markdown",
   "id": "d40d0695",
   "metadata": {},
   "source": [
    "### Use <a href=\"https://docs.scipy.org/doc/scipy/reference/generated/scipy.stats.fisher_exact.html\" style=\"color: #ff791e\">scipy's version of Fisher's exact test</a> to simulate the Lady Tasting Tea problem.\n",
    "***"
   ]
  },
  {
   "cell_type": "markdown",
   "id": "3950bba7",
   "metadata": {},
   "source": [
    "Scipy's version of Fisher's exact test is a scipy method that performs a Fisher exact test on a 2x2 contingency table. A contingency table displays frequencies for combinations of two categorical variables. They can also be refered to as crosstabulation and two-way tables. Contingency tables classify outcomes for one variable in rows and the other in columns. The values at the row and column intersections are frequencies for each unique combination of the two variables. [06]<br>\n",
    "So, for the lady tea tasting experiment, for the lady to guess all four cups correctly, The below contingency table (table 1) illustrates `scipy.stats.fisher_exact`."
   ]
  },
  {
   "cell_type": "markdown",
   "id": "efc0fa96",
   "metadata": {},
   "source": [
    "|| Actual Tea | Actual Milk |\n",
    "| :- | -: | :-: |\n",
    "| Selected Tea | 4 | 0|\n",
    "| Selected Milk | 0 | 4|"
   ]
  },
  {
   "cell_type": "markdown",
   "id": "f00af44c",
   "metadata": {},
   "source": [
    "<div align=\"center\"><b>Table 1:</b> contingency table for the lady to select 4/4 correct cups.[04]</div>"
   ]
  },
  {
   "cell_type": "markdown",
   "id": "80e94a21",
   "metadata": {},
   "source": [
    "The 'Actual Tea' refers to the tea with the tea in first and is the correct answer. 'The Actual Milk' refers to the tea with the milk in first and is the correct answer. The 'Selected Tea' refers to the tea with the tea in first that the lady selects. The 'Selected Milk' refers to the tea with the milk in first that the lady selects. <br>\n"
   ]
  },
  {
   "cell_type": "markdown",
   "id": "0fbe1755",
   "metadata": {},
   "source": [
    "`scipy.stats.fisher_exact` takes in 2 paramaters. 'Table', which is a 2x2 contingency table and 'alternative' which needs to be explored below. Let's start by importing scipy statistical methods."
   ]
  },
  {
   "cell_type": "code",
   "execution_count": 30,
   "id": "09dfea81",
   "metadata": {},
   "outputs": [],
   "source": [
    "# Statistical methods.\n",
    "import scipy.stats as ss"
   ]
  },
  {
   "cell_type": "code",
   "execution_count": 31,
   "id": "a8c31a6e",
   "metadata": {},
   "outputs": [
    {
     "data": {
      "text/plain": [
       "<function scipy.stats.stats.fisher_exact(table, alternative='two-sided')>"
      ]
     },
     "execution_count": 31,
     "metadata": {},
     "output_type": "execute_result"
    }
   ],
   "source": [
    "ss.fisher_exact"
   ]
  },
  {
   "cell_type": "markdown",
   "id": "e0b64fef",
   "metadata": {},
   "source": [
    "We can see from the above code that the default of the parameter 'alternative' is 'two sided'. Let's insert the contingency table for the lady to guess 4 cups correctly as the first parameter in `scipy.stats.fisher_exact`"
   ]
  },
  {
   "cell_type": "code",
   "execution_count": 32,
   "id": "80aafbdd",
   "metadata": {
    "scrolled": true
   },
   "outputs": [
    {
     "data": {
      "text/plain": [
       "(inf, 0.028571428571428536)"
      ]
     },
     "execution_count": 32,
     "metadata": {},
     "output_type": "execute_result"
    }
   ],
   "source": [
    "ss.fisher_exact([[4, 0], [0, 4]])"
   ]
  },
  {
   "cell_type": "markdown",
   "id": "7e8bae11",
   "metadata": {},
   "source": [
    "The answer looks to be 2 times the value that we got from using `math.comb()` from the first section of this notebook."
   ]
  },
  {
   "cell_type": "code",
   "execution_count": 33,
   "id": "043a9818",
   "metadata": {},
   "outputs": [
    {
     "data": {
      "text/plain": [
       "0.02857142857142857"
      ]
     },
     "execution_count": 33,
     "metadata": {},
     "output_type": "execute_result"
    }
   ],
   "source": [
    "# Answer from section one multiplied by 2.\n",
    "0.014285714285714285 * 2"
   ]
  },
  {
   "cell_type": "markdown",
   "id": "032655dc",
   "metadata": {},
   "source": [
    "To explore this, I changed the default parameters as seen below:"
   ]
  },
  {
   "cell_type": "code",
   "execution_count": 34,
   "id": "8499b8a8",
   "metadata": {},
   "outputs": [
    {
     "data": {
      "text/plain": [
       "(inf, 1.0)"
      ]
     },
     "execution_count": 34,
     "metadata": {},
     "output_type": "execute_result"
    }
   ],
   "source": [
    "ss.fisher_exact([[4, 0], [0, 4]], alternative = 'less')"
   ]
  },
  {
   "cell_type": "code",
   "execution_count": 35,
   "id": "8c0cdb74",
   "metadata": {},
   "outputs": [
    {
     "data": {
      "text/plain": [
       "(inf, 0.014285714285714268)"
      ]
     },
     "execution_count": 35,
     "metadata": {},
     "output_type": "execute_result"
    }
   ],
   "source": [
    "ss.fisher_exact([[4, 0], [0, 4]], alternative = 'greater')"
   ]
  },
  {
   "cell_type": "markdown",
   "id": "a127c5f5",
   "metadata": {},
   "source": [
    "It seems that when the 'alternative' parameter is changed to 'greater', we are getting the target answer that was confirmed in the first section."
   ]
  },
  {
   "cell_type": "markdown",
   "id": "744d1bf0",
   "metadata": {},
   "source": [
    "The first value returned is called the oddsratio and the second value returned is the p-value which the probability. <br>\n",
    "Let's first define the oddsratio to better understand this."
   ]
  },
  {
   "cell_type": "markdown",
   "id": "d28dc877",
   "metadata": {},
   "source": [
    "|Column 1| Column 2 |\n",
    "| :- | -: | \n",
    "| a | b |\n",
    "| c | d | "
   ]
  },
  {
   "cell_type": "markdown",
   "id": "db530be5",
   "metadata": {},
   "source": [
    "<div align=\"center\"><b>Table 2:</b> Generic contingency table.</div>"
   ]
  },
  {
   "cell_type": "markdown",
   "id": "3eb770c1",
   "metadata": {},
   "source": [
    "The odds ratio is calculated directly from the table (table 2):\n",
    "<br>\n",
    "$$Odds ratio = \\frac{\\frac{a}{b}}{\\frac{c}{d}} = \\frac{ad}{bc}$$<br>\n",
    "<br>"
   ]
  },
  {
   "cell_type": "markdown",
   "id": "03fd32c7",
   "metadata": {},
   "source": [
    "This explains why we see inf in this case. It happens when either of the letters are 0.[07]"
   ]
  },
  {
   "cell_type": "code",
   "execution_count": 36,
   "id": "333ef23c",
   "metadata": {},
   "outputs": [
    {
     "data": {
      "text/plain": [
       "(9.0, 0.24285714285714263)"
      ]
     },
     "execution_count": 36,
     "metadata": {},
     "output_type": "execute_result"
    }
   ],
   "source": [
    "ss.fisher_exact([[3, 1], [1, 3]], alternative = 'greater')"
   ]
  },
  {
   "cell_type": "markdown",
   "id": "802b0b13",
   "metadata": {},
   "source": [
    "We can see above that when we use non-zero numbers in the table that the odds ration is an integer."
   ]
  },
  {
   "cell_type": "markdown",
   "id": "df403958",
   "metadata": {},
   "source": [
    "Going back to the alternative 'parameter', there are two types of alternative. Two-sided and one-sided. The two types of one-sided are 'less' and 'greater'. [07] They are also sometimes known as left and right tailed. A 'Two-sided' Fisher’s Exact Test is when the null hypothesis odds ratio is equal to 1 and the alternative hypothesis is not equal to 1. A 'Less' Fisher’s Exact Test is when the null hypothesis odds ratio is greater than or equal to 1 and the alternative hypothesis is less than 1. A 'Greater' Fisher’s Exact Test is when the null hypothesis odds ratio is less than or equal to 1 and the alternative hypothesis is greater than 1. See the below summary of alternatives[07]:"
   ]
  },
  {
   "cell_type": "markdown",
   "id": "a19bd674",
   "metadata": {},
   "source": [
    "**Two-sided Fisher’s Exact Test:**<br>\n",
    "ho: The odds ratio is equal to 1<br>\n",
    "ha: The odds ratio is not equal to 1<br>\n",
    "**“Less” Fisher’s Exact Test:**<br>\n",
    "ho: The odds ratio ≥ 1<br>\n",
    "ha: The odds ratio is <1<br>\n",
    "**“Greater” Fisher’s Exact Test:**<br>\n",
    "ho: The odds ratio is ≤1<br>\n",
    "ha: The odds ratio is > 1<br>"
   ]
  },
  {
   "cell_type": "markdown",
   "id": "6a0fe8b1",
   "metadata": {},
   "source": [
    "This means that for the lady to get all cups correct and for the experiment to have the same result as using `math.comb()` as in section one, the alternative hypothesis must be that the odds ratio is greater than 1."
   ]
  },
  {
   "cell_type": "markdown",
   "id": "50f30ed1",
   "metadata": {},
   "source": [
    "## Part 2\n",
    "\n",
    "***"
   ]
  },
  {
   "cell_type": "markdown",
   "id": "e63f6f81",
   "metadata": {},
   "source": [
    "Take the code from the <a href=\"https://docs.scipy.org/doc/scipy/reference/generated/scipy.stats.ttest_ind.html\" style=\"color: #ff791e\">Examples section of the scipy stats documentation for independent samples t-tests</a>, add it to your own notebook and add explain how it works using MarkDown cells and code comments. Improve it in any way you think it could be improved."
   ]
  },
  {
   "cell_type": "code",
   "execution_count": 37,
   "id": "3df04130",
   "metadata": {},
   "outputs": [],
   "source": [
    "rng = np.random.default_rng()"
   ]
  },
  {
   "cell_type": "markdown",
   "id": "2bf6943e",
   "metadata": {},
   "source": [
    "The `scipy.stats.norm` function creates a normal continuous random variable. It has many different methods that can be used. rvs (Random variates), pdf (Probability density function), logpdf (Log of the probability density function), cdf (\t\n",
    "Cumulative distribution function) etc.[09]"
   ]
  },
  {
   "cell_type": "markdown",
   "id": "57e12ddf",
   "metadata": {},
   "source": [
    "See below examples using the pdf method."
   ]
  },
  {
   "cell_type": "code",
   "execution_count": 38,
   "id": "7616521d",
   "metadata": {},
   "outputs": [
    {
     "data": {
      "text/plain": [
       "0.05399096651318806"
      ]
     },
     "execution_count": 38,
     "metadata": {},
     "output_type": "execute_result"
    }
   ],
   "source": [
    "pdf1 = stats.norm.pdf(x=2)\n",
    "pdf1"
   ]
  },
  {
   "cell_type": "code",
   "execution_count": 39,
   "id": "0d41a547",
   "metadata": {},
   "outputs": [
    {
     "data": {
      "text/plain": [
       "0.0044318484119380075"
      ]
     },
     "execution_count": 39,
     "metadata": {},
     "output_type": "execute_result"
    }
   ],
   "source": [
    "pdf2 = stats.norm.pdf(x=8, loc=5, scale=1)\n",
    "pdf2"
   ]
  },
  {
   "cell_type": "markdown",
   "id": "99c800e7",
   "metadata": {},
   "source": [
    "The `loc` parameter is the mean and the `scale` parameter is the standard deviation. the `x` variable is specific to the pdf function and we won't need it for the examples that are in `scipy.stats.ttest_ind`."
   ]
  },
  {
   "cell_type": "markdown",
   "id": "820d6fa7",
   "metadata": {},
   "source": [
    "The default parameters for `rsv` are `rvs(loc=0, scale=1, size=1, random_state=None)`"
   ]
  },
  {
   "cell_type": "markdown",
   "id": "631f90c5",
   "metadata": {},
   "source": [
    "Size is the size of the array"
   ]
  },
  {
   "cell_type": "markdown",
   "id": "788bd8cb",
   "metadata": {},
   "source": [
    "Let's create a variable and look at it."
   ]
  },
  {
   "cell_type": "code",
   "execution_count": 40,
   "id": "835bae7d",
   "metadata": {},
   "outputs": [
    {
     "data": {
      "text/plain": [
       "array([ 1.44436788, -0.15617378, -0.79177635,  2.32220521, -0.89004723])"
      ]
     },
     "execution_count": 40,
     "metadata": {},
     "output_type": "execute_result"
    }
   ],
   "source": [
    "rvsa = stats.norm.rvs(loc=0, scale=1, size=5, random_state=None)\n",
    "rvsa"
   ]
  },
  {
   "cell_type": "markdown",
   "id": "07a69b24",
   "metadata": {},
   "source": [
    "We can use the random number generator that we created above in the `random state` parameter."
   ]
  },
  {
   "cell_type": "code",
   "execution_count": 41,
   "id": "1bcf1621",
   "metadata": {},
   "outputs": [
    {
     "data": {
      "text/plain": [
       "array([-1.37693826,  0.35158598, -0.69717651,  0.83407579,  0.58392631])"
      ]
     },
     "execution_count": 41,
     "metadata": {},
     "output_type": "execute_result"
    }
   ],
   "source": [
    "rvsb = stats.norm.rvs(loc=0, scale=1, size=5, random_state=rng)\n",
    "rvsb"
   ]
  },
  {
   "cell_type": "code",
   "execution_count": null,
   "id": "c2af3d55",
   "metadata": {},
   "outputs": [],
   "source": []
  },
  {
   "cell_type": "code",
   "execution_count": null,
   "id": "321bbdfc",
   "metadata": {},
   "outputs": [],
   "source": []
  },
  {
   "cell_type": "code",
   "execution_count": 42,
   "id": "485f3b10",
   "metadata": {},
   "outputs": [
    {
     "data": {
      "text/plain": [
       "array([ 1.12214691e+01,  6.42220630e+00,  1.92573749e+01, -7.24379196e+00,\n",
       "        5.09134433e+00,  6.11570908e+00, -9.29719277e+00,  5.55653448e+00,\n",
       "       -6.72018898e+00,  2.42937579e+01, -1.33098467e+01, -1.13990187e+00,\n",
       "        1.29032196e+01,  2.26414226e+01,  1.66766831e+00, -1.73510385e+00,\n",
       "        7.15059705e+00,  2.55576288e+01,  1.54511630e+01,  4.81103794e+00,\n",
       "        8.02067973e+00,  1.16528360e+00, -3.92195555e+00,  6.22099164e+00,\n",
       "        1.65312878e+01,  1.30669386e+01, -8.46642691e+00,  1.62997100e+01,\n",
       "        1.26558193e+01,  3.37691807e+00, -4.66019904e+00,  1.39665698e+00,\n",
       "       -3.04887321e+00,  1.28898440e+01,  2.24220895e+01,  8.98379901e+00,\n",
       "        8.81944099e+00,  1.59153620e+01, -3.35073849e+00, -5.66546930e+00,\n",
       "        8.62352311e+00, -9.33723637e+00, -1.33669720e+01, -1.09988395e+00,\n",
       "        1.66593296e+00,  6.30506534e+00,  1.12097123e+01,  1.03240903e+01,\n",
       "       -2.05300662e+00,  3.32533552e+00,  5.45160143e+00,  1.33994778e+01,\n",
       "       -7.42311118e+00,  1.43721192e+00,  1.56666157e+00,  2.50692925e+01,\n",
       "       -5.00566551e+00,  8.25570176e+00,  1.81715777e+01, -1.54181125e+01,\n",
       "        1.02943250e+01, -1.45226815e+01,  4.91577474e-01,  6.09032580e+00,\n",
       "        2.23837082e+01, -2.77320840e+01,  3.33077476e+01,  7.30106158e+00,\n",
       "        1.21146561e+01, -2.97062286e+00,  2.00752866e+01,  2.36357815e+00,\n",
       "       -3.88269757e+00,  9.41835543e+00,  1.95557323e+01, -2.83917067e+00,\n",
       "       -4.84316237e+00,  7.28124957e+00,  2.24229397e+00,  1.19545322e+01,\n",
       "        1.25456101e+00, -4.87344676e+00,  1.17722064e+01,  3.92790036e+00,\n",
       "       -6.90920189e+00, -7.22285805e+00,  1.23661212e+01, -2.46185126e+00,\n",
       "        1.16084886e+00,  2.72343382e+01,  5.71069839e-01, -4.82696100e+00,\n",
       "        1.42269919e+01,  1.01307979e+01, -5.86588572e+00, -4.92552378e+00,\n",
       "       -2.72749747e+00, -1.30420069e+01,  9.69398721e+00, -1.11966447e+01,\n",
       "       -9.50298316e-01,  7.02861898e+00,  1.96707515e+01, -1.75835858e-01,\n",
       "       -9.88317614e+00,  4.87230839e+00, -5.93058394e+00,  1.59296503e+01,\n",
       "       -1.61058815e+00,  1.68823692e+01,  4.78110325e+00,  1.26727289e+01,\n",
       "        1.43118313e+01, -4.96491097e+00,  1.19499396e+01,  2.09055049e+01,\n",
       "        2.26115259e+00,  1.43948592e+01,  1.00377944e+01,  1.17339606e+01,\n",
       "        6.68803336e+00,  5.45310689e+00, -1.97388154e-01, -3.20000124e+00,\n",
       "       -1.52377683e+01,  1.72356160e+01,  9.97806981e+00,  2.27770864e+01,\n",
       "        1.31566303e+01,  1.71432695e+00,  6.26173443e+00,  1.03759074e+01,\n",
       "       -5.09690386e+00,  6.10485207e+00, -8.38413976e+00, -1.88379750e+01,\n",
       "        4.06117761e+00,  1.28774752e+01,  2.26024477e+01, -3.71739507e+00,\n",
       "        1.26132602e+01,  9.42051626e-02,  8.84958466e+00,  9.98156673e+00,\n",
       "       -5.23473126e+00,  1.83620547e+01, -4.06463795e+00,  1.62349913e+01,\n",
       "        1.79788979e+01,  2.04568945e+01, -1.31113400e+01,  8.59520421e+00,\n",
       "        8.15561887e+00,  8.19056218e+00,  1.68026032e+01,  1.33188697e+01,\n",
       "       -1.26986674e+01, -4.62650932e+00,  2.30463339e+01,  2.13306967e+01,\n",
       "       -1.52381011e-01,  1.12199570e+01,  4.31631302e+00, -3.20645724e+00,\n",
       "        2.01845831e+01,  1.30586979e+01,  2.35028516e+01,  6.93412522e+00,\n",
       "        7.89799229e+00,  2.22981586e+00,  4.17243105e+01,  6.69568440e+00,\n",
       "        7.90881689e-01, -1.25270669e+01,  2.35676359e+01,  8.29559148e+00,\n",
       "        2.89165226e+00,  2.03716247e+01,  1.31204196e+01,  2.00839979e+01,\n",
       "       -2.40058485e-01,  4.44411904e+00,  2.00520501e+01,  2.23575453e+01,\n",
       "        4.60461567e+00,  5.98277192e+00,  4.22355157e-01,  6.65919249e+00,\n",
       "        2.20997714e+01,  1.06569454e+01,  2.31813917e+01, -4.40318138e+00,\n",
       "       -4.00933129e-01,  1.92235349e+00, -1.05000841e+00,  4.83250320e+00,\n",
       "       -9.58815644e+00,  6.41034182e+00, -1.06964985e-02,  2.07123121e+01,\n",
       "        1.00616871e+01,  7.55766438e+00,  3.46767660e+00,  9.70587728e+00,\n",
       "        6.20115786e-01,  8.06675078e+00,  6.35904461e+00,  3.80839075e+01,\n",
       "        1.68790594e+01, -6.25654597e+00,  1.76678099e+01, -5.03846583e+00,\n",
       "        1.59571878e+00,  1.25832632e+01,  2.77974271e+00,  7.16801210e+00,\n",
       "       -8.09113576e+00, -1.12494950e-01, -1.50418687e+01, -1.57487810e+01,\n",
       "       -1.55683397e+01,  1.04389887e+01,  1.54432638e+01, -7.97114320e+00,\n",
       "        3.02580549e+00, -2.54544136e+00, -1.32967330e+01,  2.03786612e+01,\n",
       "       -8.92888054e+00,  2.22487991e+01,  9.04809772e+00, -6.07869215e-01,\n",
       "       -1.67639731e+00,  1.30180111e+01,  1.06392407e+01, -5.75248923e+00,\n",
       "       -1.73044349e+00, -8.21097106e+00, -4.02878192e+00,  5.59707630e+00,\n",
       "        1.31282496e+01, -7.61877674e+00,  1.75096779e+01, -6.12049525e+00,\n",
       "        2.62920460e+00,  3.59776222e+00, -5.88256437e+00,  1.72093465e+00,\n",
       "        8.10904562e+00,  2.87377156e-02,  6.50542626e-01,  9.81499302e+00,\n",
       "       -1.72309273e+00,  1.95698540e+01,  6.30506998e+00,  1.90798775e+01,\n",
       "        2.08714826e+01,  5.51853316e+00,  6.03569057e+00,  1.58640744e+01,\n",
       "        1.45782105e+01,  1.49991634e+01,  1.16594941e+01, -5.08160702e+00,\n",
       "        3.75309405e+00,  2.18601385e+01, -6.53045288e+00, -9.66669279e+00,\n",
       "       -3.95397249e+00,  5.85545799e+00,  1.13517730e+01,  1.65733687e+01,\n",
       "        3.72372321e+00,  6.86305888e+00, -8.85320600e+00, -2.93328309e+00,\n",
       "        7.29793771e+00,  9.30982489e+00, -6.48156451e+00,  1.31027812e+01,\n",
       "        1.07513226e+01,  1.84012527e+01,  7.05203069e+00,  1.99913385e+01,\n",
       "        1.73202859e+01, -6.15831392e-02,  7.47020839e+00, -2.07027871e+00,\n",
       "        2.25806938e+01,  6.01636213e+00,  2.27363337e+01,  8.30181450e+00,\n",
       "        1.03995719e+01, -5.52014883e+00,  1.62613510e+00,  2.50902625e+00,\n",
       "        4.67791500e+00,  1.14159600e+01,  1.28816417e+01, -2.55800751e-01,\n",
       "       -3.27978218e+00,  8.54742381e+00, -1.57234981e+01,  7.47626417e+00,\n",
       "        2.81628191e+01, -6.32896301e+00, -7.46019308e-01,  5.08921524e+00,\n",
       "       -1.36186746e+01,  4.54761397e+00,  1.41494842e+01,  8.69909961e+00,\n",
       "        8.97841738e+00, -8.29917828e+00,  1.54914626e+01,  2.56107914e+01,\n",
       "        5.91089849e+00, -3.10887418e+00,  1.42890702e+00, -6.22301981e+00,\n",
       "       -8.30455133e+00, -3.51167010e-01,  1.47536655e+01,  2.38238582e+01,\n",
       "        4.24471573e+00, -1.07268872e+01, -7.57525489e+00,  2.20883311e+00,\n",
       "        1.02363350e+01,  1.14305507e+01,  1.06956887e+01, -7.76756769e+00,\n",
       "       -3.63089056e-02,  3.36385898e+00,  1.75326806e+01, -5.26517049e+00,\n",
       "       -3.47781611e+00, -8.51245152e+00,  2.32018962e+01,  2.44161057e+01,\n",
       "       -6.22571076e-01,  3.39615456e+00, -1.57573195e+00,  1.79143090e+01,\n",
       "        2.94018587e+01,  1.98410557e+00,  4.32612006e+00, -3.67953759e+00,\n",
       "        1.79608908e+00,  3.52060502e+00,  1.09705439e+01,  9.31064074e+00,\n",
       "        1.89820823e+01,  1.73324624e+01,  1.63573973e+00,  1.02078503e+00,\n",
       "       -8.51416967e+00,  5.62152834e+00,  1.77613511e+01, -7.57896481e-01,\n",
       "        1.38306776e+01,  7.69269816e+00,  2.13975459e+00,  6.29151309e+00,\n",
       "        1.24038062e+01, -1.59404921e+01, -5.03976185e+00,  3.22205340e-01,\n",
       "        1.18728720e+01,  4.34882403e+00,  6.33456598e+00, -4.08751569e+00,\n",
       "       -1.16428049e+00, -2.17615703e+00,  2.94747430e+00, -8.69093390e-02,\n",
       "        1.79161660e+01, -8.49696048e+00, -2.49252911e+00,  9.09876860e+00,\n",
       "        6.00724436e+00,  1.29066003e+01,  1.57386072e+01, -7.86872355e+00,\n",
       "       -9.17365620e+00,  1.47881797e+01,  9.38560366e+00,  2.81572308e+00,\n",
       "        1.06551873e+01,  1.83034936e+01,  9.43340122e+00,  1.63665572e+00,\n",
       "        5.96040206e+00, -8.55828686e+00, -1.12979946e+01, -6.59826360e+00,\n",
       "        1.56457756e+01,  4.38063764e+00,  2.09501699e+00,  7.19999382e+00,\n",
       "       -1.49034107e+00,  8.63041562e-01,  1.55131932e+00,  2.71626317e+01,\n",
       "       -1.01956766e+01, -6.11625488e+00, -5.09593038e-01,  1.31375839e+01,\n",
       "        7.66616103e+00,  2.76568025e+00, -7.64968940e+00, -3.86572217e+00,\n",
       "       -2.72073341e-01, -5.71790269e+00,  5.52172577e+00, -6.43609841e-01,\n",
       "        6.85884534e+00,  9.83797225e+00, -1.18398703e+01,  6.37508990e+00,\n",
       "        3.72746976e+00,  2.34960749e+00, -2.29737101e+00,  5.63275873e+00,\n",
       "       -1.02670323e+01, -1.03315586e-01,  1.92971158e+01,  1.48359828e+01,\n",
       "        5.26665412e+00,  1.03655183e+01,  1.00774887e+01,  2.81870788e+01,\n",
       "       -4.84805853e-01,  1.92000365e+01, -6.19151915e+00,  1.29992743e+01,\n",
       "       -1.84572425e+01,  7.63459943e+00,  6.68790334e+00,  8.06079880e+00,\n",
       "       -1.59077288e+01,  3.34473297e+00, -2.53827490e+00, -1.19529332e+01,\n",
       "        4.33410743e+00,  1.65964058e-01,  1.47897677e+00,  1.45313493e+01,\n",
       "       -7.20540370e+00,  2.46187505e+00,  3.71823660e+00, -1.65484189e+01,\n",
       "       -3.05211422e+00,  1.74780209e+01, -6.85547623e+00, -3.72697362e+00,\n",
       "        3.38901350e+00, -4.70450300e+00,  1.09048489e+00, -1.54130172e+01,\n",
       "        1.19222798e+01,  6.21481151e-01, -7.94970827e-01, -1.02137460e+01,\n",
       "        1.08923654e+01,  8.45967852e+00, -1.73461155e+00, -6.88420213e-01,\n",
       "        1.11156592e+01,  3.94401328e+00,  8.47760486e-01,  9.23448560e+00,\n",
       "        5.74887321e+00,  9.98039454e+00,  3.41094664e+00,  2.05812284e+01,\n",
       "       -2.38930775e+01,  4.68725464e+00,  3.66900576e+00,  1.04538067e+01,\n",
       "        1.42227312e+01, -2.11114091e+01,  1.54341454e+01,  4.71324285e+00,\n",
       "        1.23606764e+01, -9.23980611e+00, -2.17777677e-01,  1.77987198e+01,\n",
       "       -1.46427941e+00,  3.71787882e+00,  4.83424576e+00,  2.51751565e+01,\n",
       "        1.24618850e+01, -1.07716567e+01,  7.75929076e+00,  1.70971648e+01,\n",
       "       -1.14839375e+01,  3.05645920e+00, -1.38830679e+01,  8.97441113e+00])"
      ]
     },
     "execution_count": 42,
     "metadata": {},
     "output_type": "execute_result"
    }
   ],
   "source": [
    "rvs1 = stats.norm.rvs(loc=5, scale=10, size=500, random_state=rng)\n",
    "rvs2 = stats.norm.rvs(loc=5, scale=10, size=500, random_state=rng)\n",
    "rvs1"
   ]
  },
  {
   "cell_type": "markdown",
   "id": "817f7d37",
   "metadata": {},
   "source": [
    "Above are two randomly generated Normal distributions with mean=1 and standard deviation=10."
   ]
  },
  {
   "cell_type": "markdown",
   "id": "1285bff2",
   "metadata": {},
   "source": [
    "Below is a performance of a standard independent 2 sample test that assumes equal population variances. This is because the parameter `equal_var` is set to true by default.[10]"
   ]
  },
  {
   "cell_type": "code",
   "execution_count": 43,
   "id": "9f742a8b",
   "metadata": {},
   "outputs": [
    {
     "data": {
      "text/plain": [
       "Ttest_indResult(statistic=0.571631775461929, pvalue=0.5677001793158569)"
      ]
     },
     "execution_count": 43,
     "metadata": {},
     "output_type": "execute_result"
    }
   ],
   "source": [
    "stats.ttest_ind(rvs1, rvs2)"
   ]
  },
  {
   "cell_type": "markdown",
   "id": "90bd987f",
   "metadata": {},
   "source": [
    "If it is set to false, then a Welch’s t-test is performed instead and it does not assume equal population variance.[11] Student's t-test assumes that the sample means being compared for two populations are normally distributed, and that the populations have equal variances. Welch's t-test is designed for unequal population variances, but the assumption of normality is maintained. Welch's t-test is an approximate solution to the Behrens–Fisher problem.[12]"
   ]
  },
  {
   "cell_type": "code",
   "execution_count": 44,
   "id": "30be1bf2",
   "metadata": {},
   "outputs": [
    {
     "data": {
      "text/plain": [
       "Ttest_indResult(statistic=0.571631775461929, pvalue=0.5677007228814793)"
      ]
     },
     "execution_count": 44,
     "metadata": {},
     "output_type": "execute_result"
    }
   ],
   "source": [
    "stats.ttest_ind(rvs1, rvs2, equal_var=False)"
   ]
  },
  {
   "cell_type": "markdown",
   "id": "14fb3f6a",
   "metadata": {},
   "source": [
    "Since the "
   ]
  },
  {
   "cell_type": "code",
   "execution_count": null,
   "id": "70787d26",
   "metadata": {},
   "outputs": [],
   "source": []
  },
  {
   "cell_type": "code",
   "execution_count": null,
   "id": "a12eee71",
   "metadata": {},
   "outputs": [],
   "source": []
  },
  {
   "cell_type": "code",
   "execution_count": null,
   "id": "5e3b50bc",
   "metadata": {},
   "outputs": [],
   "source": []
  },
  {
   "cell_type": "markdown",
   "id": "ec1de116",
   "metadata": {},
   "source": [
    "***\n",
    "\n",
    "## References\n",
    "\n",
    "***"
   ]
  },
  {
   "cell_type": "markdown",
   "id": "517842a9",
   "metadata": {},
   "source": [
    "[01][python-programs.com - Python math.comb() Method with Examples](https://python-programs.com/python-math-comb-method-with-examples/)<br>\n",
    "[02][handwiki.org - Lady Tasting Tea](https://handwiki.org/wiki/Lady_tasting_tea)<br>\n",
    "[03][Wikipedia - Lady tasting tea](https://en.wikipedia.org/wiki/Lady_tasting_tea)<br>\n",
    "[04][Tables in Markdown (in Jupyter)](https://stackoverflow.com/questions/48655801/tables-in-markdown-in-jupyter)<br>\n",
    "[05][docs.scipy.org - scipy.stats.fisher_exact](https://docs.scipy.org/doc/scipy/reference/generated/scipy.stats.fisher_exact.html)<br>\n",
    "[06][statisticsbyjim.com - Contingency Table: Definition, Examples & Interpreting](https://statisticsbyjim.com/basics/contingency-table/)<br>\n",
    "[07][towardsdatascience.com - Fully Mastering Fisher’s Exact Test for A/B Testing](https://towardsdatascience.com/fishers-exact-fb49432e55b5)<br>\n",
    "[08][GitHub Ian McLoughlin - 01-statistics.ipynb](https://github.com/ianmcloughlin/2223-S1-machine-learn-stats/blob/main/notebooks/01-statistics.ipynb)<br>\n",
    "[09][scipy.org - scipy.stats.norm](https://docs.scipy.org/doc/scipy/reference/generated/scipy.stats.norm.html?highlight=norm)<br>\n",
    "[10][Wikipedia - Independent two-sample t-test](https://en.wikipedia.org/wiki/Student%27s_t-test#Independent_two-sample_t-test)<br>\n",
    "[11][Wikipedia - Welch's t-test](https://en.wikipedia.org/wiki/Welch%27s_t-test)<br>\n",
    "[][]()<br>\n",
    "[][]()<br>\n",
    "[][]()<br>\n",
    "[][]()<br>\n"
   ]
  },
  {
   "cell_type": "code",
   "execution_count": null,
   "id": "a9567058",
   "metadata": {},
   "outputs": [],
   "source": []
  }
 ],
 "metadata": {
  "kernelspec": {
   "display_name": "Python 3 (ipykernel)",
   "language": "python",
   "name": "python3"
  },
  "language_info": {
   "codemirror_mode": {
    "name": "ipython",
    "version": 3
   },
   "file_extension": ".py",
   "mimetype": "text/x-python",
   "name": "python",
   "nbconvert_exporter": "python",
   "pygments_lexer": "ipython3",
   "version": "3.9.4"
  }
 },
 "nbformat": 4,
 "nbformat_minor": 5
}
