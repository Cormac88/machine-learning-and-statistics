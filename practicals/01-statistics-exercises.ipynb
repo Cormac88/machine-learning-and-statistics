{
 "cells": [
  {
   "cell_type": "markdown",
   "id": "521c0eec",
   "metadata": {},
   "source": [
    "# Exercise 1\n",
    "\n",
    "***"
   ]
  },
  {
   "cell_type": "markdown",
   "id": "4163288d",
   "metadata": {},
   "source": [
    "## Part 1"
   ]
  },
  {
   "cell_type": "markdown",
   "id": "48cf7cca",
   "metadata": {},
   "source": [
    "Calculate the minimum number of cups of tea required to ensure the probability of randomly selecting the correct cups is less than or equal to 1%.\n",
    "\n",
    "***"
   ]
  },
  {
   "cell_type": "code",
   "execution_count": 1,
   "id": "4a9f5b30",
   "metadata": {},
   "outputs": [],
   "source": [
    "# Efficient numerical arrays.\n",
    "import numpy as np\n",
    "\n",
    "# Data frames.\n",
    "import pandas as pd\n",
    "\n",
    "# Alternative statistics package.\n",
    "import statsmodels.stats.weightstats as stat\n",
    "\n",
    "# Mains statistics package.\n",
    "import scipy.stats as stats\n",
    "\n",
    "# Show combinations\n",
    "import itertools\n",
    "\n",
    "# Generate random numbers\n",
    "import random\n",
    "\n",
    "# Plotting.\n",
    "import matplotlib.pyplot as plt\n",
    "\n",
    "# Math module.\n",
    "import math\n",
    "\n",
    "# Fancier plotting.\n",
    "import seaborn as sns\n",
    "\n",
    "# Better sized plots.\n",
    "plt.rcParams['figure.figsize'] = (12, 8)\n",
    "\n",
    "# Nicer colours and styles for plots.\n",
    "plt.style.use(\"ggplot\")"
   ]
  },
  {
   "cell_type": "markdown",
   "id": "fbb54408",
   "metadata": {},
   "source": [
    "The lady tea test is a simple count of the number of successes in selecting the 4 cups (the number of cups of the given type successfully selected). The distribution of possible numbers of successes can be computed using the number of combinations. Using the combination formula, with n=8 total cups and k=4 cups chosen, there are:"
   ]
  },
  {
   "cell_type": "markdown",
   "id": "9278a195",
   "metadata": {},
   "source": [
    "<br>\n",
    "$${8 \\choose 4} = \\frac{8!}{4!(8-4)!} = 70$$<br>\n",
    "<br>\n",
    "possible combinations.\n",
    "Here, the first part of the equation means 8 choose 4.[02] "
   ]
  },
  {
   "cell_type": "markdown",
   "id": "4a22908e",
   "metadata": {},
   "source": [
    "![lady_tea](img/lady_tea.png)"
   ]
  },
  {
   "cell_type": "markdown",
   "id": "e2a28564",
   "metadata": {},
   "source": [
    "**Fig 1:** Possible outcomes of the \"lady tasting tea\" experiment."
   ]
  },
  {
   "cell_type": "markdown",
   "id": "34f1d064",
   "metadata": {},
   "source": [
    "The following is adapted from https://stackoverflow.com/a/4941932"
   ]
  },
  {
   "cell_type": "markdown",
   "id": "40ea1394",
   "metadata": {},
   "source": [
    "In the imports section above. We imported the math module of python becuase we are going to need the math.comb method."
   ]
  },
  {
   "cell_type": "markdown",
   "id": "f1d886d0",
   "metadata": {},
   "source": [
    "The math.comb() method, also known as combinations, returns the number of ways to choose k unordered outcomes from n possibilities without repetition.[01]\n",
    "\n",
    "**Parameters**\n",
    "\n",
    "**n**: The positive integers of items from which to choose\n",
    "\n",
    "**k**: The positive integers of items to choose"
   ]
  },
  {
   "cell_type": "code",
   "execution_count": 2,
   "id": "efc082f2",
   "metadata": {},
   "outputs": [
    {
     "data": {
      "text/plain": [
       "70"
      ]
     },
     "execution_count": 2,
     "metadata": {},
     "output_type": "execute_result"
    }
   ],
   "source": [
    "# Number of ways of selecting 4 cups from 8.\n",
    "math.comb(8, 4)"
   ]
  },
  {
   "cell_type": "markdown",
   "id": "69d31a5f",
   "metadata": {},
   "source": [
    "This is another way of writing the mathematical formula above, but this time using python.<br>\n",
    "The probability of randomly selecting the correct 4 cups is:"
   ]
  },
  {
   "cell_type": "code",
   "execution_count": 3,
   "id": "4bfbd468",
   "metadata": {},
   "outputs": [
    {
     "data": {
      "text/plain": [
       "0.014285714285714285"
      ]
     },
     "execution_count": 3,
     "metadata": {},
     "output_type": "execute_result"
    }
   ],
   "source": [
    "1.0 / math.comb(8, 4)"
   ]
  },
  {
   "cell_type": "markdown",
   "id": "eade00a2",
   "metadata": {},
   "source": [
    "We can say that if the experiment was done with 8 cups total, four with milk in first and four with tea in first, then the chance of selecting correctly randomly is about 1.5%. <br>\n",
    "Now let's have a look at the number of ways of selecting 5 cups from 10."
   ]
  },
  {
   "cell_type": "code",
   "execution_count": 4,
   "id": "709845b5",
   "metadata": {},
   "outputs": [
    {
     "data": {
      "text/plain": [
       "252"
      ]
     },
     "execution_count": 4,
     "metadata": {},
     "output_type": "execute_result"
    }
   ],
   "source": [
    "math.comb(10, 5)"
   ]
  },
  {
   "cell_type": "markdown",
   "id": "8d03d79d",
   "metadata": {},
   "source": [
    "The probability of randomly selecting correct 5 cups is:"
   ]
  },
  {
   "cell_type": "code",
   "execution_count": 5,
   "id": "270080c1",
   "metadata": {},
   "outputs": [
    {
     "data": {
      "text/plain": [
       "0.003968253968253968"
      ]
     },
     "execution_count": 5,
     "metadata": {},
     "output_type": "execute_result"
    }
   ],
   "source": [
    "1.0 / math.comb(10, 5)"
   ]
  },
  {
   "cell_type": "markdown",
   "id": "b960f15d",
   "metadata": {},
   "source": [
    "So, if the experiment was done with 10 cups total, five with milk in first and five with tea in first, then the chance of selecting correctly randomly is much less than 1%."
   ]
  },
  {
   "cell_type": "markdown",
   "id": "4326a0cb",
   "metadata": {},
   "source": [
    "Of course, we could design the experiment to have 9 cups in total, with 4 with milk in first and 5 with tea in first - or vice versa."
   ]
  },
  {
   "cell_type": "code",
   "execution_count": 6,
   "id": "c23f2023",
   "metadata": {},
   "outputs": [
    {
     "data": {
      "text/plain": [
       "126"
      ]
     },
     "execution_count": 6,
     "metadata": {},
     "output_type": "execute_result"
    }
   ],
   "source": [
    "# Number of ways of selecting 4 cups from 9.\n",
    "math.comb(9, 4)"
   ]
  },
  {
   "cell_type": "code",
   "execution_count": 7,
   "id": "6c3720d3",
   "metadata": {},
   "outputs": [
    {
     "data": {
      "text/plain": [
       "0.007936507936507936"
      ]
     },
     "execution_count": 7,
     "metadata": {},
     "output_type": "execute_result"
    }
   ],
   "source": [
    "# The probability is then:\n",
    "1.0 / math.comb(9, 4)"
   ]
  },
  {
   "cell_type": "markdown",
   "id": "3b71da86",
   "metadata": {},
   "source": [
    "This is less than 1% too."
   ]
  },
  {
   "cell_type": "markdown",
   "id": "d90343b8",
   "metadata": {},
   "source": [
    "Note that the number of ways of selecting 5 cups from 9 is:"
   ]
  },
  {
   "cell_type": "code",
   "execution_count": 8,
   "id": "02db3874",
   "metadata": {},
   "outputs": [
    {
     "data": {
      "text/plain": [
       "126"
      ]
     },
     "execution_count": 8,
     "metadata": {},
     "output_type": "execute_result"
    }
   ],
   "source": [
    "math.comb(9, 5)"
   ]
  },
  {
   "cell_type": "markdown",
   "id": "2418a048",
   "metadata": {},
   "source": [
    "This is because with 9 cups, we are segregating them into groups of 4 and 5. 4 with the milk in first and 5 with the tea in first or vice versa. So 9 choose 4 is the same as 9 choose 5 because of the way that the 2 groups of cups are separated."
   ]
  },
  {
   "cell_type": "markdown",
   "id": "8b9f0078",
   "metadata": {},
   "source": [
    "\n",
    "### *Bonus Question:* How many would be required if you were to let the taster get one cup wrong while maintaining the 1% threshold?"
   ]
  },
  {
   "cell_type": "markdown",
   "id": "b34ba1af",
   "metadata": {},
   "source": [
    "As per above, the number of ways of selecting 4 cups from 8 is:"
   ]
  },
  {
   "cell_type": "code",
   "execution_count": 9,
   "id": "4564c948",
   "metadata": {},
   "outputs": [
    {
     "data": {
      "text/plain": [
       "70"
      ]
     },
     "execution_count": 9,
     "metadata": {},
     "output_type": "execute_result"
    }
   ],
   "source": [
    "math.comb(8, 4)"
   ]
  },
  {
   "cell_type": "markdown",
   "id": "c620e666",
   "metadata": {},
   "source": [
    "For the lady to get all 4 cups correct, there is clearly only one set of four choices (namely, choosing all four correct cups). This is where the 1 comes from in the numerator:"
   ]
  },
  {
   "cell_type": "code",
   "execution_count": 10,
   "id": "5c8ae702",
   "metadata": {},
   "outputs": [
    {
     "data": {
      "text/plain": [
       "0.014285714285714285"
      ]
     },
     "execution_count": 10,
     "metadata": {},
     "output_type": "execute_result"
    }
   ],
   "source": [
    "1.0/70.0"
   ]
  },
  {
   "cell_type": "markdown",
   "id": "55b9ab33",
   "metadata": {},
   "source": [
    "But to allow the lady to get one cup wrong, the sets of for choices are 4 choose 3 and 4 choose 1. "
   ]
  },
  {
   "cell_type": "code",
   "execution_count": 11,
   "id": "2abb6e9a",
   "metadata": {},
   "outputs": [
    {
     "data": {
      "text/plain": [
       "4"
      ]
     },
     "execution_count": 11,
     "metadata": {},
     "output_type": "execute_result"
    }
   ],
   "source": [
    "math.comb(4, 3)"
   ]
  },
  {
   "cell_type": "code",
   "execution_count": 12,
   "id": "d0f27157",
   "metadata": {},
   "outputs": [
    {
     "data": {
      "text/plain": [
       "4"
      ]
     },
     "execution_count": 12,
     "metadata": {},
     "output_type": "execute_result"
    }
   ],
   "source": [
    "math.comb(4, 1)"
   ]
  },
  {
   "cell_type": "markdown",
   "id": "a2da4cf1",
   "metadata": {},
   "source": [
    "Thus a selection of any one correct cup and any three correct cups can occur in any of 4×4 = 16 ways. [03]"
   ]
  },
  {
   "cell_type": "code",
   "execution_count": 13,
   "id": "3badac4e",
   "metadata": {},
   "outputs": [
    {
     "data": {
      "text/plain": [
       "0.22857142857142856"
      ]
     },
     "execution_count": 13,
     "metadata": {},
     "output_type": "execute_result"
    }
   ],
   "source": [
    "16.0/70.0"
   ]
  },
  {
   "cell_type": "markdown",
   "id": "3ad1ea0d",
   "metadata": {},
   "source": [
    "Therefore, the lady has a greater than 20% chance to get 3/4 cups correct. For the lady to get one cup wrong while maintaining the 1% threshold, the number of cups would have to be increased in the experiment. Let's try with 10 cups overall.[03]"
   ]
  },
  {
   "cell_type": "code",
   "execution_count": 14,
   "id": "3ebdbeeb",
   "metadata": {},
   "outputs": [
    {
     "data": {
      "text/plain": [
       "252"
      ]
     },
     "execution_count": 14,
     "metadata": {},
     "output_type": "execute_result"
    }
   ],
   "source": [
    "math.comb(10, 5)"
   ]
  },
  {
   "cell_type": "markdown",
   "id": "c3500516",
   "metadata": {},
   "source": [
    "To allow the lady to get one cup wrong, the sets of for choices are 5 choose 4 and 5 choose 1. "
   ]
  },
  {
   "cell_type": "code",
   "execution_count": 15,
   "id": "b826710e",
   "metadata": {},
   "outputs": [
    {
     "data": {
      "text/plain": [
       "5"
      ]
     },
     "execution_count": 15,
     "metadata": {},
     "output_type": "execute_result"
    }
   ],
   "source": [
    "math.comb(5, 4)"
   ]
  },
  {
   "cell_type": "code",
   "execution_count": 16,
   "id": "884a9c34",
   "metadata": {},
   "outputs": [
    {
     "data": {
      "text/plain": [
       "5"
      ]
     },
     "execution_count": 16,
     "metadata": {},
     "output_type": "execute_result"
    }
   ],
   "source": [
    "math.comb(5, 1)"
   ]
  },
  {
   "cell_type": "markdown",
   "id": "54163c7c",
   "metadata": {},
   "source": [
    "Thus a selection of any one correct cup and any four correct cups can occur in any of 5×5 = 25 ways. [03]"
   ]
  },
  {
   "cell_type": "code",
   "execution_count": 17,
   "id": "9c19522e",
   "metadata": {},
   "outputs": [
    {
     "data": {
      "text/plain": [
       "0.0992063492063492"
      ]
     },
     "execution_count": 17,
     "metadata": {},
     "output_type": "execute_result"
    }
   ],
   "source": [
    "25.0/252.0"
   ]
  },
  {
   "cell_type": "markdown",
   "id": "9b0934d4",
   "metadata": {},
   "source": [
    "The lady has less around 10% chance to get 4/5 cups correct."
   ]
  },
  {
   "cell_type": "markdown",
   "id": "a2dd97e3",
   "metadata": {},
   "source": [
    "Let's try with 12 cups. "
   ]
  },
  {
   "cell_type": "code",
   "execution_count": 18,
   "id": "0f58cde9",
   "metadata": {},
   "outputs": [
    {
     "data": {
      "text/plain": [
       "924"
      ]
     },
     "execution_count": 18,
     "metadata": {},
     "output_type": "execute_result"
    }
   ],
   "source": [
    "math.comb(12, 6)"
   ]
  },
  {
   "cell_type": "code",
   "execution_count": 19,
   "id": "15cc6bc6",
   "metadata": {},
   "outputs": [
    {
     "data": {
      "text/plain": [
       "6"
      ]
     },
     "execution_count": 19,
     "metadata": {},
     "output_type": "execute_result"
    }
   ],
   "source": [
    "math.comb(6, 5)"
   ]
  },
  {
   "cell_type": "code",
   "execution_count": 20,
   "id": "7b899bbc",
   "metadata": {},
   "outputs": [
    {
     "data": {
      "text/plain": [
       "6"
      ]
     },
     "execution_count": 20,
     "metadata": {},
     "output_type": "execute_result"
    }
   ],
   "source": [
    "math.comb(6, 1)"
   ]
  },
  {
   "cell_type": "markdown",
   "id": "9936bd4b",
   "metadata": {},
   "source": [
    "Thus a selection of any one correct cup and any four correct cups can occur in any of 6×6 = 36 ways. [03]"
   ]
  },
  {
   "cell_type": "code",
   "execution_count": 21,
   "id": "228ee549",
   "metadata": {},
   "outputs": [
    {
     "data": {
      "text/plain": [
       "0.03896103896103896"
      ]
     },
     "execution_count": 21,
     "metadata": {},
     "output_type": "execute_result"
    }
   ],
   "source": [
    "36.0/924.0"
   ]
  },
  {
   "cell_type": "markdown",
   "id": "50b56b7d",
   "metadata": {},
   "source": [
    "The lady has less around 3% chance to get 5/6 cups correct."
   ]
  },
  {
   "cell_type": "markdown",
   "id": "5967f8d0",
   "metadata": {},
   "source": [
    "Let's bump the number of cups up to 16. "
   ]
  },
  {
   "cell_type": "code",
   "execution_count": 22,
   "id": "ba8f1be0",
   "metadata": {},
   "outputs": [
    {
     "data": {
      "text/plain": [
       "12870"
      ]
     },
     "execution_count": 22,
     "metadata": {},
     "output_type": "execute_result"
    }
   ],
   "source": [
    "math.comb(16, 8)"
   ]
  },
  {
   "cell_type": "code",
   "execution_count": 23,
   "id": "07e7b430",
   "metadata": {},
   "outputs": [
    {
     "data": {
      "text/plain": [
       "8"
      ]
     },
     "execution_count": 23,
     "metadata": {},
     "output_type": "execute_result"
    }
   ],
   "source": [
    "math.comb(8, 7)"
   ]
  },
  {
   "cell_type": "code",
   "execution_count": 24,
   "id": "83b3345d",
   "metadata": {},
   "outputs": [
    {
     "data": {
      "text/plain": [
       "8"
      ]
     },
     "execution_count": 24,
     "metadata": {},
     "output_type": "execute_result"
    }
   ],
   "source": [
    "math.comb(8, 1)"
   ]
  },
  {
   "cell_type": "markdown",
   "id": "a74decd9",
   "metadata": {},
   "source": [
    "Thus a selection of any one correct cup and any four correct cups can occur in any of 8×8 = 64 ways. [03]"
   ]
  },
  {
   "cell_type": "code",
   "execution_count": 25,
   "id": "c8767377",
   "metadata": {},
   "outputs": [
    {
     "data": {
      "text/plain": [
       "0.004972804972804973"
      ]
     },
     "execution_count": 25,
     "metadata": {},
     "output_type": "execute_result"
    }
   ],
   "source": [
    "64.0/12870.0"
   ]
  },
  {
   "cell_type": "markdown",
   "id": "dc000df0",
   "metadata": {},
   "source": [
    "The lady has less around 0.5% chance to get 7/8 cups correct."
   ]
  },
  {
   "cell_type": "markdown",
   "id": "53c4e0dd",
   "metadata": {},
   "source": [
    "Now let's see if we do some code to generate a visuallisation of this."
   ]
  },
  {
   "cell_type": "markdown",
   "id": "8510e826",
   "metadata": {},
   "source": [
    "Below we have given each of the eight cups a label from 0 to 15. Note that the cups have no order in the experiment, we are labelling them with integers simply for convenience."
   ]
  },
  {
   "cell_type": "code",
   "execution_count": 26,
   "id": "b25722bd",
   "metadata": {},
   "outputs": [
    {
     "data": {
      "text/plain": [
       "[0, 1, 2, 3, 4, 5, 6, 7, 8, 9, 10, 11, 12, 13, 14, 15]"
      ]
     },
     "execution_count": 26,
     "metadata": {},
     "output_type": "execute_result"
    }
   ],
   "source": [
    "# The 16 cups.\n",
    "\n",
    "cups = list(range(16))\n",
    "cups"
   ]
  },
  {
   "cell_type": "markdown",
   "id": "36bc15e6",
   "metadata": {},
   "source": [
    "We can now store the possibilities that can be enumerated using the combinations function from the itertools Python package in a variable called `poss`.[08]"
   ]
  },
  {
   "cell_type": "code",
   "execution_count": 27,
   "id": "f388c1f2",
   "metadata": {},
   "outputs": [],
   "source": [
    "poss = list(itertools.combinations(cups, 8))"
   ]
  },
  {
   "cell_type": "code",
   "execution_count": 28,
   "id": "97f269d3",
   "metadata": {},
   "outputs": [
    {
     "data": {
      "image/png": "[encoded data removed]",
      "text/plain": [
       "<Figure size 864x576 with 1 Axes>"
      ]
     },
     "metadata": {},
     "output_type": "display_data"
    }
   ],
   "source": [
    "# Pick a random correct answer from the list of 70 to simulate the experiment.\n",
    "milkfirst = set(random.choice(poss))\n",
    "\n",
    "# Count the overlap between the correct answer, and each of the 70 possiblities.\n",
    "counts = [len(milkfirst & set(i)) for i in itertools.combinations(cups, 8)]\n",
    "\n",
    "# Creat the plot.\n",
    "sns.countplot(x=counts);"
   ]
  },
  {
   "cell_type": "markdown",
   "id": "621fc871",
   "metadata": {},
   "source": [
    "## Part 2"
   ]
  },
  {
   "cell_type": "markdown",
   "id": "d40d0695",
   "metadata": {},
   "source": [
    "Use <a href=\"https://docs.scipy.org/doc/scipy/reference/generated/scipy.stats.fisher_exact.html\" style=\"color: #ff791e\">scipy's version of Fisher's exact test</a> to simulate the Lady Tasting Tea problem.\n",
    "***"
   ]
  },
  {
   "cell_type": "markdown",
   "id": "3950bba7",
   "metadata": {},
   "source": [
    "Scipy's version of Fisher's exact test is a scipy method that performs a Fisher exact test on a 2x2 contingency table. A contingency table displays frequencies for combinations of two categorical variables. They can also be refered to as crosstabulation and two-way tables. Contingency tables classify outcomes for one variable in rows and the other in columns. The values at the row and column intersections are frequencies for each unique combination of the two variables. [06]<br>\n",
    "So, for the lady tea tasting experiment, for the lady to guess all four cups correctly, The below contingency table (table 1) illustrates `scipy.stats.fisher_exact`."
   ]
  },
  {
   "cell_type": "markdown",
   "id": "efc0fa96",
   "metadata": {},
   "source": [
    "|| Actual Tea | Actual Milk |\n",
    "| :- | -: | :-: |\n",
    "| Selected Tea | 4 | 0|\n",
    "| Selected Milk | 0 | 4|"
   ]
  },
  {
   "cell_type": "markdown",
   "id": "f00af44c",
   "metadata": {},
   "source": [
    "<div align=\"center\"><b>Table 1:</b> contingency table for the lady to select 4/4 correct cups.[04]</div>"
   ]
  },
  {
   "cell_type": "markdown",
   "id": "80e94a21",
   "metadata": {},
   "source": [
    "The 'Actual Tea' refers to the tea with the tea in first and is the correct answer. 'The Actual Milk' refers to the tea with the milk in first and is the correct answer. The 'Selected Tea' refers to the tea with the tea in first that the lady selects. The 'Selected Milk' refers to the tea with the milk in first that the lady selects. <br>\n"
   ]
  },
  {
   "cell_type": "markdown",
   "id": "0fbe1755",
   "metadata": {},
   "source": [
    "`scipy.stats.fisher_exact` takes in 2 paramaters. 'Table', which is a 2x2 contingency table and 'alternative' which needs to be explored below. Let's start by importing scipy statistical methods."
   ]
  },
  {
   "cell_type": "code",
   "execution_count": 29,
   "id": "09dfea81",
   "metadata": {},
   "outputs": [],
   "source": [
    "# Statistical methods.\n",
    "import scipy.stats as ss"
   ]
  },
  {
   "cell_type": "code",
   "execution_count": 30,
   "id": "a8c31a6e",
   "metadata": {},
   "outputs": [
    {
     "data": {
      "text/plain": [
       "<function scipy.stats.stats.fisher_exact(table, alternative='two-sided')>"
      ]
     },
     "execution_count": 30,
     "metadata": {},
     "output_type": "execute_result"
    }
   ],
   "source": [
    "ss.fisher_exact"
   ]
  },
  {
   "cell_type": "markdown",
   "id": "e0b64fef",
   "metadata": {},
   "source": [
    "We can see from the above code that the default of the parameter 'alternative' is 'two sided'. Let's insert the contingency table for the lady to guess 4 cups correctly as the first parameter in `scipy.stats.fisher_exact`"
   ]
  },
  {
   "cell_type": "code",
   "execution_count": 31,
   "id": "80aafbdd",
   "metadata": {
    "scrolled": true
   },
   "outputs": [
    {
     "data": {
      "text/plain": [
       "(inf, 0.028571428571428536)"
      ]
     },
     "execution_count": 31,
     "metadata": {},
     "output_type": "execute_result"
    }
   ],
   "source": [
    "ss.fisher_exact([[4, 0], [0, 4]])"
   ]
  },
  {
   "cell_type": "markdown",
   "id": "7e8bae11",
   "metadata": {},
   "source": [
    "The answer looks to be 2 times the value that we got from using `math.comb()` from the first section of this notebook."
   ]
  },
  {
   "cell_type": "code",
   "execution_count": 32,
   "id": "043a9818",
   "metadata": {},
   "outputs": [
    {
     "data": {
      "text/plain": [
       "0.02857142857142857"
      ]
     },
     "execution_count": 32,
     "metadata": {},
     "output_type": "execute_result"
    }
   ],
   "source": [
    "# Answer from section one multiplied by 2.\n",
    "0.014285714285714285 * 2"
   ]
  },
  {
   "cell_type": "markdown",
   "id": "032655dc",
   "metadata": {},
   "source": [
    "To explore this, I changed the default parameters as seen below:"
   ]
  },
  {
   "cell_type": "code",
   "execution_count": 33,
   "id": "8499b8a8",
   "metadata": {},
   "outputs": [
    {
     "data": {
      "text/plain": [
       "(inf, 1.0)"
      ]
     },
     "execution_count": 33,
     "metadata": {},
     "output_type": "execute_result"
    }
   ],
   "source": [
    "ss.fisher_exact([[4, 0], [0, 4]], alternative = 'less')"
   ]
  },
  {
   "cell_type": "code",
   "execution_count": 34,
   "id": "8c0cdb74",
   "metadata": {},
   "outputs": [
    {
     "data": {
      "text/plain": [
       "(inf, 0.014285714285714268)"
      ]
     },
     "execution_count": 34,
     "metadata": {},
     "output_type": "execute_result"
    }
   ],
   "source": [
    "ss.fisher_exact([[4, 0], [0, 4]], alternative = 'greater')"
   ]
  },
  {
   "cell_type": "markdown",
   "id": "a127c5f5",
   "metadata": {},
   "source": [
    "It seems that when the 'alternative' parameter is changed to 'greater', we are getting the target answer that was confirmed in the first section."
   ]
  },
  {
   "cell_type": "markdown",
   "id": "744d1bf0",
   "metadata": {},
   "source": [
    "The first value returned is called the oddsratio and the second value returned is the p-value which the probability. <br>\n",
    "Let's first define the oddsratio to better understand this."
   ]
  },
  {
   "cell_type": "markdown",
   "id": "d28dc877",
   "metadata": {},
   "source": [
    "|Column 1| Column 2 |\n",
    "| :- | -: | \n",
    "| a | b |\n",
    "| c | d | "
   ]
  },
  {
   "cell_type": "markdown",
   "id": "db530be5",
   "metadata": {},
   "source": [
    "<div align=\"center\"><b>Table 2:</b> Generic contingency table.</div>"
   ]
  },
  {
   "cell_type": "markdown",
   "id": "3eb770c1",
   "metadata": {},
   "source": [
    "The odds ratio is calculated directly from the table (table 2):\n",
    "<br>\n",
    "$$\\text{Odds Ratio} = \\frac{\\frac{a}{b}}{\\frac{c}{d}} = \\frac{ad}{bc}$$<br>\n",
    "<br>"
   ]
  },
  {
   "cell_type": "markdown",
   "id": "03fd32c7",
   "metadata": {},
   "source": [
    "This explains why we see inf in this case. It happens when either of the letters are 0.[07]"
   ]
  },
  {
   "cell_type": "code",
   "execution_count": 35,
   "id": "333ef23c",
   "metadata": {},
   "outputs": [
    {
     "data": {
      "text/plain": [
       "(9.0, 0.24285714285714263)"
      ]
     },
     "execution_count": 35,
     "metadata": {},
     "output_type": "execute_result"
    }
   ],
   "source": [
    "ss.fisher_exact([[3, 1], [1, 3]], alternative = 'greater')"
   ]
  },
  {
   "cell_type": "markdown",
   "id": "802b0b13",
   "metadata": {},
   "source": [
    "We can see above that when we use non-zero numbers in the table that the odds ration is an integer."
   ]
  },
  {
   "cell_type": "markdown",
   "id": "df403958",
   "metadata": {},
   "source": [
    "Going back to the alternative 'parameter', there are two types of alternative. Two-sided and one-sided. The two types of one-sided are 'less' and 'greater'. [07] They are also sometimes known as left and right tailed. A 'Two-sided' Fisher’s Exact Test is when the null hypothesis odds ratio is equal to 1 and the alternative hypothesis is not equal to 1. A 'Less' Fisher’s Exact Test is when the null hypothesis odds ratio is greater than or equal to 1 and the alternative hypothesis is less than 1. A 'Greater' Fisher’s Exact Test is when the null hypothesis odds ratio is less than or equal to 1 and the alternative hypothesis is greater than 1. See the below summary of alternatives[07]:"
   ]
  },
  {
   "cell_type": "markdown",
   "id": "a19bd674",
   "metadata": {},
   "source": [
    "**Two-sided Fisher’s Exact Test:**<br>\n",
    "ho: The odds ratio is equal to 1<br>\n",
    "ha: The odds ratio is not equal to 1<br>\n",
    "**“Less” Fisher’s Exact Test:**<br>\n",
    "ho: The odds ratio ≥ 1<br>\n",
    "ha: The odds ratio is <1<br>\n",
    "**“Greater” Fisher’s Exact Test:**<br>\n",
    "ho: The odds ratio is ≤1<br>\n",
    "ha: The odds ratio is > 1<br>"
   ]
  },
  {
   "cell_type": "markdown",
   "id": "6a0fe8b1",
   "metadata": {},
   "source": [
    "This means that for the lady to get all cups correct and for the experiment to have the same result as using `math.comb()` as in section one, the alternative hypothesis must be that the odds ratio is greater than 1."
   ]
  },
  {
   "cell_type": "markdown",
   "id": "50f30ed1",
   "metadata": {},
   "source": [
    "## Exercise 2\n",
    "***"
   ]
  },
  {
   "cell_type": "markdown",
   "id": "e63f6f81",
   "metadata": {},
   "source": [
    "- Take the code from the <a href=\"https://docs.scipy.org/doc/scipy/reference/generated/scipy.stats.ttest_ind.html\" style=\"color: #ff791e\">Examples section of the scipy stats documentation for independent samples t-tests</a>, add it to your own notebook and add explain how it works using MarkDown cells and code comments. <br>\n",
    "- Improve it in any way you think it could be improved.\n",
    "\n",
    "***"
   ]
  },
  {
   "cell_type": "markdown",
   "id": "1518c98b",
   "metadata": {},
   "source": [
    "A t-test is an inferential statistic used to assess whether there is a significant difference between the means of two groups and their relationships. When data sets have a normal distribution and unknown variances, t-tests are used [12] <br>\n",
    "To perform a t-test, we need three essential data values. The mean difference, the standard deviation of each group, and the total number of data values for each group, as well as the difference between the mean values from each data set.<br>\n",
    "An example of using the t-test would be some researchers want to know whether or not two different species of plants have the same mean height. To test this, they collect a simple random sample of 20 plants from each species.[13]"
   ]
  },
  {
   "cell_type": "code",
   "execution_count": 36,
   "id": "3df04130",
   "metadata": {},
   "outputs": [],
   "source": [
    "# Generate random number generator (rng) using numpy\n",
    "rng = np.random.default_rng(42)"
   ]
  },
  {
   "cell_type": "markdown",
   "id": "d24eb97d",
   "metadata": {},
   "source": [
    "Let's start with the first paramaters `a` and `b`. `a` is an array of sample observations for group 1, and `b` an array of sample observations for group 2."
   ]
  },
  {
   "cell_type": "markdown",
   "id": "2bf6943e",
   "metadata": {},
   "source": [
    "The `scipy.stats.norm` function creates a normal continuous random variable. It has many different methods that can be used. rvs (Random variates), pdf (Probability density function), logpdf (Log of the probability density function), cdf (\t\n",
    "Cumulative distribution function) etc.[09]"
   ]
  },
  {
   "cell_type": "markdown",
   "id": "57e12ddf",
   "metadata": {},
   "source": [
    "See below examples using the pdf method."
   ]
  },
  {
   "cell_type": "code",
   "execution_count": 37,
   "id": "7616521d",
   "metadata": {},
   "outputs": [
    {
     "data": {
      "text/plain": [
       "0.05399096651318806"
      ]
     },
     "execution_count": 37,
     "metadata": {},
     "output_type": "execute_result"
    }
   ],
   "source": [
    "pdf1 = stats.norm.pdf(x=2)\n",
    "pdf1"
   ]
  },
  {
   "cell_type": "code",
   "execution_count": 38,
   "id": "0d41a547",
   "metadata": {},
   "outputs": [
    {
     "data": {
      "text/plain": [
       "0.0044318484119380075"
      ]
     },
     "execution_count": 38,
     "metadata": {},
     "output_type": "execute_result"
    }
   ],
   "source": [
    "pdf2 = stats.norm.pdf(x=8, loc=5, scale=1)\n",
    "pdf2"
   ]
  },
  {
   "cell_type": "markdown",
   "id": "99c800e7",
   "metadata": {},
   "source": [
    "The `loc` parameter is the mean and the `scale` parameter is the standard deviation. The `x` variable is specific to the pdf function and we won't need it for the examples that are in `scipy.stats.ttest_ind`."
   ]
  },
  {
   "cell_type": "markdown",
   "id": "820d6fa7",
   "metadata": {},
   "source": [
    "The default parameters for `rsv` are `rvs(loc=0, scale=1, size=1, random_state=None)`"
   ]
  },
  {
   "cell_type": "markdown",
   "id": "631f90c5",
   "metadata": {},
   "source": [
    "`Size` is the size of the array."
   ]
  },
  {
   "cell_type": "markdown",
   "id": "788bd8cb",
   "metadata": {},
   "source": [
    "Let's create a variable and look at it."
   ]
  },
  {
   "cell_type": "code",
   "execution_count": 39,
   "id": "835bae7d",
   "metadata": {},
   "outputs": [
    {
     "data": {
      "text/plain": [
       "array([ 0.21784039, -0.1204883 ,  0.28645573, -1.07534434, -0.07430136])"
      ]
     },
     "execution_count": 39,
     "metadata": {},
     "output_type": "execute_result"
    }
   ],
   "source": [
    "rvs1 = stats.norm.rvs(loc=0, scale=1, size=5, random_state=None)\n",
    "rvs1"
   ]
  },
  {
   "cell_type": "markdown",
   "id": "07a69b24",
   "metadata": {},
   "source": [
    "We can use the random number generator that we created above in the `random state` parameter."
   ]
  },
  {
   "cell_type": "code",
   "execution_count": 40,
   "id": "1bcf1621",
   "metadata": {},
   "outputs": [
    {
     "data": {
      "text/plain": [
       "array([ 0.30471708, -1.03998411,  0.7504512 ,  0.94056472, -1.95103519])"
      ]
     },
     "execution_count": 40,
     "metadata": {},
     "output_type": "execute_result"
    }
   ],
   "source": [
    "rvs2 = stats.norm.rvs(loc=0, scale=1, size=5, random_state=rng)\n",
    "rvs2"
   ]
  },
  {
   "cell_type": "markdown",
   "id": "dfd4bebc",
   "metadata": {},
   "source": [
    "Let's bump the size up to 500 for each of these variables so that we can use them as our `a` and `b` parameters."
   ]
  },
  {
   "cell_type": "code",
   "execution_count": 41,
   "id": "485f3b10",
   "metadata": {},
   "outputs": [],
   "source": [
    "rvs1 = stats.norm.rvs(loc=5, scale=10, size=500, random_state=rng)\n",
    "rvs2 = stats.norm.rvs(loc=5, scale=10, size=500, random_state=rng)"
   ]
  },
  {
   "cell_type": "markdown",
   "id": "817f7d37",
   "metadata": {},
   "source": [
    "Above are two randomly generated Normal distributions with mean=1 and standard deviation=10."
   ]
  },
  {
   "cell_type": "markdown",
   "id": "1285bff2",
   "metadata": {},
   "source": [
    "Below is a performance of a standard independent 2 sample test that assumes equal population variances. This is because the parameter `equal_var` is set to true by default. [10]"
   ]
  },
  {
   "cell_type": "code",
   "execution_count": 42,
   "id": "9f742a8b",
   "metadata": {},
   "outputs": [
    {
     "data": {
      "text/plain": [
       "Ttest_indResult(statistic=0.3675656260184975, pvalue=0.713275082711144)"
      ]
     },
     "execution_count": 42,
     "metadata": {},
     "output_type": "execute_result"
    }
   ],
   "source": [
    "stats.ttest_ind(rvs1, rvs2)"
   ]
  },
  {
   "cell_type": "markdown",
   "id": "90bd987f",
   "metadata": {},
   "source": [
    "We can see above that the p-value is above 0.05. Generally and alpha value is chosen at around 0.5. An alpha value is a criterion for acceptance. [14] In most cases, a 5% value can be assumed. We can see above that the p-value is over 5% so we can reject the null hypothesis. \n",
    "If it is set to false, then a Welch’s t-test is performed instead and it does not assume equal population variance. [11] Student's t-test assumes that the sample means being compared for two populations are normally distributed, and that the populations have equal variances. Welch's t-test is designed for unequal population variances, but the assumption of a normal distribution maintained. Welch's t-test is an approximate solution to the Behrens–Fisher problem. [12]"
   ]
  },
  {
   "cell_type": "code",
   "execution_count": 43,
   "id": "30be1bf2",
   "metadata": {},
   "outputs": [
    {
     "data": {
      "text/plain": [
       "Ttest_indResult(statistic=0.3675656260184975, pvalue=0.7132751958216259)"
      ]
     },
     "execution_count": 43,
     "metadata": {},
     "output_type": "execute_result"
    }
   ],
   "source": [
    "stats.ttest_ind(rvs1, rvs2, equal_var=False)"
   ]
  },
  {
   "cell_type": "markdown",
   "id": "14fb3f6a",
   "metadata": {},
   "source": [
    "The formulas for calculating the Welch's t-test are: <br>\n",
    "$$\\text{T Value} = \\frac{mean1 - mean2}{\\sqrt{(\\frac{var1}{n1} + \\frac{var2}{n2})}}$$<br>\n",
    "$$\\text{Degrees of Freedom} = \\frac{(\\frac{var1^2}{n1} + \\frac{var2^2}{n2})^2}{\\frac{(\\frac{var1^2}{n1})}{n1-1} + \\frac{(\\frac{var2^2}{n2})}{n2-1}}$$"
   ]
  },
  {
   "cell_type": "markdown",
   "id": "1b2d9d9c",
   "metadata": {},
   "source": [
    "Where *var1* and *var1* = Variance of each of the sample sets <br>\n",
    "*n1* and *n2* = Number of records in each sample set (`size`). <br>\n",
    "See lecture notes for formalu of the student's t-test where the variances are assumed to be the same."
   ]
  },
  {
   "cell_type": "markdown",
   "id": "380f2be1",
   "metadata": {},
   "source": [
    "Let's do another test where the standard deviation is 20 for one of the samples."
   ]
  },
  {
   "cell_type": "code",
   "execution_count": 44,
   "id": "71711a73",
   "metadata": {},
   "outputs": [
    {
     "data": {
      "text/plain": [
       "Ttest_indResult(statistic=-0.12272150447433998, pvalue=0.9023523424290409)"
      ]
     },
     "execution_count": 44,
     "metadata": {},
     "output_type": "execute_result"
    }
   ],
   "source": [
    "rvs3 = stats.norm.rvs(loc=5, scale=20, size=500, random_state=rng)\n",
    "stats.ttest_ind(rvs1, rvs3)"
   ]
  },
  {
   "cell_type": "code",
   "execution_count": 45,
   "id": "d1a9ec6c",
   "metadata": {},
   "outputs": [
    {
     "data": {
      "text/plain": [
       "Ttest_indResult(statistic=-0.12272150447433998, pvalue=0.9023622750360023)"
      ]
     },
     "execution_count": 45,
     "metadata": {},
     "output_type": "execute_result"
    }
   ],
   "source": [
    "stats.ttest_ind(rvs1, rvs3, equal_var=False)"
   ]
  },
  {
   "cell_type": "markdown",
   "id": "e3aaf474",
   "metadata": {},
   "source": [
    "We can see above that the welch's t-test underestimates p. <br>"
   ]
  },
  {
   "cell_type": "markdown",
   "id": "95e16bee",
   "metadata": {},
   "source": [
    "Now let's test it when the sample sizes are different, i.e. when one of the sample sizes is 500 and the other is 100. The standard deviations will also be different, the firs is 10 and the second is 20."
   ]
  },
  {
   "cell_type": "code",
   "execution_count": 46,
   "id": "c9c38355",
   "metadata": {},
   "outputs": [
    {
     "data": {
      "text/plain": [
       "Ttest_indResult(statistic=3.5015166827821496, pvalue=0.0004971041437930139)"
      ]
     },
     "execution_count": 46,
     "metadata": {},
     "output_type": "execute_result"
    }
   ],
   "source": [
    "rvs4 = stats.norm.rvs(loc=5, scale=20, size=100, random_state=rng)\n",
    "stats.ttest_ind(rvs1, rvs4)"
   ]
  },
  {
   "cell_type": "code",
   "execution_count": 47,
   "id": "1cb6c9a4",
   "metadata": {},
   "outputs": [
    {
     "data": {
      "text/plain": [
       "Ttest_indResult(statistic=2.2123658805310313, pvalue=0.029050967928541557)"
      ]
     },
     "execution_count": 47,
     "metadata": {},
     "output_type": "execute_result"
    }
   ],
   "source": [
    "stats.ttest_ind(rvs1, rvs4, equal_var=False)"
   ]
  },
  {
   "cell_type": "markdown",
   "id": "ce70dbf4",
   "metadata": {},
   "source": [
    "We can see above that the equal variance t-statistic (student's t-test) is no longer equal to the unequal variance t-statistic (Welch's t-test). <br>\n",
    "Now let's try it with a different means, variance, and size. <br>\n",
    "Sample 1 : mean=5, standard deviation=10, size=500 <br>\n",
    "Sample 2 : mean=8, standard deviation=20, size=100 "
   ]
  },
  {
   "cell_type": "code",
   "execution_count": 48,
   "id": "14fc6f5e",
   "metadata": {},
   "outputs": [
    {
     "data": {
      "text/plain": [
       "Ttest_indResult(statistic=-1.0237015168788652, pvalue=0.3063902094181567)"
      ]
     },
     "execution_count": 48,
     "metadata": {},
     "output_type": "execute_result"
    }
   ],
   "source": [
    "rvs5 = stats.norm.rvs(loc=8, scale=20, size=100, random_state=rng)\n",
    "stats.ttest_ind(rvs1, rvs5)"
   ]
  },
  {
   "cell_type": "code",
   "execution_count": 49,
   "id": "5e3b50bc",
   "metadata": {},
   "outputs": [
    {
     "data": {
      "text/plain": [
       "Ttest_indResult(statistic=-0.6473425943985983, pvalue=0.5187864578940679)"
      ]
     },
     "execution_count": 49,
     "metadata": {},
     "output_type": "execute_result"
    }
   ],
   "source": [
    "stats.ttest_ind(rvs1, rvs5, equal_var=False)"
   ]
  },
  {
   "cell_type": "markdown",
   "id": "6cb382ac",
   "metadata": {},
   "source": [
    "We can see above that the equal variance t-statistic (student's t-test) is no longer equal to the unequal variance t-statistic (Welch's t-test), similar to the test where the mean and size were different.<br>\n",
    "Let's now change the `permutations` parameter. Using the Student's t-test. We'll use the `rng` to ensure reproducibility."
   ]
  },
  {
   "cell_type": "code",
   "execution_count": 50,
   "id": "d710dfc8",
   "metadata": {},
   "outputs": [
    {
     "data": {
      "text/plain": [
       "Ttest_indResult(statistic=-1.0237015168788652, pvalue=0.3111)"
      ]
     },
     "execution_count": 50,
     "metadata": {},
     "output_type": "execute_result"
    }
   ],
   "source": [
    "stats.ttest_ind(rvs1, rvs5, permutations=10000, random_state=rng)"
   ]
  },
  {
   "cell_type": "markdown",
   "id": "22c9d9a0",
   "metadata": {},
   "source": [
    "In calculating the inferential test, if `permutations` is specified then the inferential test is based on an empirical bootstrap distribution of potential test statistics that could result from the same data pool but assigned to sample 1 or sample 2 at random. This inferential test does not make strong assumptions about the populations from which the data samples come.\n",
    "\n",
    "If `permutations` is not specified then the inferential test is based on a theoretical distribution of potential test statistics that could arise if the two data samples come from populations which conform to certain parametric assumptions (normal distribution, and so forth). [15]"
   ]
  },
  {
   "cell_type": "markdown",
   "id": "ec1de116",
   "metadata": {},
   "source": [
    "***\n",
    "\n",
    "## References\n",
    "\n",
    "***"
   ]
  },
  {
   "cell_type": "markdown",
   "id": "517842a9",
   "metadata": {},
   "source": [
    "[01][python-programs.com - Python math.comb() Method with Examples](https://python-programs.com/python-math-comb-method-with-examples/)<br>\n",
    "[02][handwiki.org - Lady Tasting Tea](https://handwiki.org/wiki/Lady_tasting_tea)<br>\n",
    "[03][Wikipedia - Lady tasting tea](https://en.wikipedia.org/wiki/Lady_tasting_tea)<br>\n",
    "[04][Tables in Markdown (in Jupyter)](https://stackoverflow.com/questions/48655801/tables-in-markdown-in-jupyter)<br>\n",
    "[05][docs.scipy.org - scipy.stats.fisher_exact](https://docs.scipy.org/doc/scipy/reference/generated/scipy.stats.fisher_exact.html)<br>\n",
    "[06][statisticsbyjim.com - Contingency Table: Definition, Examples & Interpreting](https://statisticsbyjim.com/basics/contingency-table/)<br>\n",
    "[07][towardsdatascience.com - Fully Mastering Fisher’s Exact Test for A/B Testing](https://towardsdatascience.com/fishers-exact-fb49432e55b5)<br>\n",
    "[08][GitHub Ian McLoughlin - 01-statistics.ipynb](https://github.com/ianmcloughlin/2223-S1-machine-learn-stats/blob/main/notebooks/01-statistics.ipynb)<br>\n",
    "[09][scipy.org - scipy.stats.norm](https://docs.scipy.org/doc/scipy/reference/generated/scipy.stats.norm.html?highlight=norm)<br>\n",
    "[10][Wikipedia - Independent two-sample t-test](https://en.wikipedia.org/wiki/Student%27s_t-test#Independent_two-sample_t-test)<br>\n",
    "[11][Wikipedia - Welch's t-test](https://en.wikipedia.org/wiki/Welch%27s_t-test)<br>\n",
    "[12][Python Scipy ttest_ind – Complete Guide](https://pythonguides.com/python-scipy-ttest_ind/)<br>\n",
    "[13][Statology - How to Conduct a Two Sample T-Test in Python](https://www.statology.org/two-sample-t-test-python/)<br>\n",
    "[14][Investopedia - T-Test: What It Is With Multiple Formulas and When To Use Them](https://www.investopedia.com/terms/t/t-test.asp)<br>\n",
    "[15][Stackoverflow - Scipy ttest_ind permutation test changed by equal_var parameter?](https://stackoverflow.com/questions/69136100/scipy-ttest-ind-permutation-test-changed-by-equal-var-parameter)<br>\n"
   ]
  }
 ],
 "metadata": {
  "kernelspec": {
   "display_name": "Python 3 (ipykernel)",
   "language": "python",
   "name": "python3"
  },
  "language_info": {
   "codemirror_mode": {
    "name": "ipython",
    "version": 3
   },
   "file_extension": ".py",
   "mimetype": "text/x-python",
   "name": "python",
   "nbconvert_exporter": "python",
   "pygments_lexer": "ipython3",
   "version": "3.9.4"
  }
 },
 "nbformat": 4,
 "nbformat_minor": 5
}
