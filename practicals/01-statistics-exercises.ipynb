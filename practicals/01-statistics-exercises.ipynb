{
 "cells": [
  {
   "cell_type": "markdown",
   "id": "521c0eec",
   "metadata": {},
   "source": [
    "# Exercise 1\n",
    "\n",
    "***"
   ]
  },
  {
   "cell_type": "markdown",
   "id": "4163288d",
   "metadata": {},
   "source": [
    "## Part 1\n",
    "\n",
    "***"
   ]
  },
  {
   "cell_type": "markdown",
   "id": "48cf7cca",
   "metadata": {},
   "source": [
    "### Calculate the minimum number of cups of tea required to ensure the probability of randomly selecting the correct cups is less than or equal to 1%.\n",
    "<br>\n",
    "\n",
    "***"
   ]
  },
  {
   "cell_type": "markdown",
   "id": "fbb54408",
   "metadata": {},
   "source": [
    "The lady tea test is a simple count of the number of successes in selecting the 4 cups (the number of cups of the given type successfully selected). The distribution of possible numbers of successes can be computed using the number of combinations. Using the combination formula, with n=8 total cups and k=4 cups chosen, there are:"
   ]
  },
  {
   "cell_type": "markdown",
   "id": "9278a195",
   "metadata": {},
   "source": [
    "<br>\n",
    "$${8 \\choose 4} = \\frac{8!}{4!(8-4)!} = 70$$<br>\n",
    "<br>\n",
    "possible combinations.\n",
    "Here, the first part of the equation means 8 choose 4.[02] "
   ]
  },
  {
   "cell_type": "markdown",
   "id": "4a22908e",
   "metadata": {},
   "source": [
    "![lady_tea](img/lady_tea.png)"
   ]
  },
  {
   "cell_type": "markdown",
   "id": "e2a28564",
   "metadata": {},
   "source": [
    "**Fig 1:** Possible outcomes of the \"lady tasting tea\" experiment."
   ]
  },
  {
   "cell_type": "markdown",
   "id": "34f1d064",
   "metadata": {},
   "source": [
    "The following is adapted from https://stackoverflow.com/a/4941932"
   ]
  },
  {
   "cell_type": "markdown",
   "id": "40ea1394",
   "metadata": {},
   "source": [
    "We must first import the math module of python becuase we are going to need the math.comb method."
   ]
  },
  {
   "cell_type": "code",
   "execution_count": 1,
   "id": "287ec4e2",
   "metadata": {},
   "outputs": [],
   "source": [
    "# Math module.\n",
    "import math"
   ]
  },
  {
   "cell_type": "markdown",
   "id": "f1d886d0",
   "metadata": {},
   "source": [
    "The math.comb() method, also known as combinations, returns the number of ways to choose k unordered outcomes from n possibilities without repetition.[01]\n",
    "\n",
    "**Parameters**\n",
    "\n",
    "**n**: The positive integers of items from which to choose\n",
    "\n",
    "**k**: The positive integers of items to choose"
   ]
  },
  {
   "cell_type": "code",
   "execution_count": 2,
   "id": "efc082f2",
   "metadata": {},
   "outputs": [
    {
     "data": {
      "text/plain": [
       "70"
      ]
     },
     "execution_count": 2,
     "metadata": {},
     "output_type": "execute_result"
    }
   ],
   "source": [
    "# Number of ways of selecting 4 cups from 8.\n",
    "math.comb(8, 4)"
   ]
  },
  {
   "cell_type": "markdown",
   "id": "69d31a5f",
   "metadata": {},
   "source": [
    "This is another way of writing the mathematical formula above, but this time using python.<br>\n",
    "The probability of randomly selecting the correct 4 cups is:"
   ]
  },
  {
   "cell_type": "code",
   "execution_count": 3,
   "id": "4bfbd468",
   "metadata": {},
   "outputs": [
    {
     "data": {
      "text/plain": [
       "0.014285714285714285"
      ]
     },
     "execution_count": 3,
     "metadata": {},
     "output_type": "execute_result"
    }
   ],
   "source": [
    "1.0 / math.comb(8, 4)"
   ]
  },
  {
   "cell_type": "markdown",
   "id": "eade00a2",
   "metadata": {},
   "source": [
    "We can say that if the experiment was done with 8 cups total, four with milk in first and four with tea in first, then the chance of selecting correctly randomly is about 1.5%. <br>\n",
    "Now let's have a look at the number of ways of selecting 5 cups from 10."
   ]
  },
  {
   "cell_type": "code",
   "execution_count": 4,
   "id": "709845b5",
   "metadata": {},
   "outputs": [
    {
     "data": {
      "text/plain": [
       "252"
      ]
     },
     "execution_count": 4,
     "metadata": {},
     "output_type": "execute_result"
    }
   ],
   "source": [
    "math.comb(10, 5)"
   ]
  },
  {
   "cell_type": "markdown",
   "id": "8d03d79d",
   "metadata": {},
   "source": [
    "The probability of randomly selecting correct 5 cups is:"
   ]
  },
  {
   "cell_type": "code",
   "execution_count": 5,
   "id": "270080c1",
   "metadata": {},
   "outputs": [
    {
     "data": {
      "text/plain": [
       "0.003968253968253968"
      ]
     },
     "execution_count": 5,
     "metadata": {},
     "output_type": "execute_result"
    }
   ],
   "source": [
    "1.0 / math.comb(10, 5)"
   ]
  },
  {
   "cell_type": "markdown",
   "id": "b960f15d",
   "metadata": {},
   "source": [
    "So, if the experiment was done with 10 cups total, five with milk in first and five with tea in first, then the chance of selecting correctly randomly is much less than 1%."
   ]
  },
  {
   "cell_type": "markdown",
   "id": "4326a0cb",
   "metadata": {},
   "source": [
    "Of course, we could design the experiment to have 9 cups in total, with 4 with milk in first and 5 with tea in first - or vice versa."
   ]
  },
  {
   "cell_type": "code",
   "execution_count": 6,
   "id": "c23f2023",
   "metadata": {},
   "outputs": [
    {
     "data": {
      "text/plain": [
       "126"
      ]
     },
     "execution_count": 6,
     "metadata": {},
     "output_type": "execute_result"
    }
   ],
   "source": [
    "# Number of ways of selecting 4 cups from 9.\n",
    "math.comb(9, 4)"
   ]
  },
  {
   "cell_type": "code",
   "execution_count": 7,
   "id": "6c3720d3",
   "metadata": {},
   "outputs": [
    {
     "data": {
      "text/plain": [
       "0.007936507936507936"
      ]
     },
     "execution_count": 7,
     "metadata": {},
     "output_type": "execute_result"
    }
   ],
   "source": [
    "# The probability is then:\n",
    "1.0 / math.comb(9, 4)"
   ]
  },
  {
   "cell_type": "markdown",
   "id": "3b71da86",
   "metadata": {},
   "source": [
    "This is less than 1% too."
   ]
  },
  {
   "cell_type": "markdown",
   "id": "d90343b8",
   "metadata": {},
   "source": [
    "Note that the number of ways of selecting 5 cups from 9 is:"
   ]
  },
  {
   "cell_type": "code",
   "execution_count": 8,
   "id": "02db3874",
   "metadata": {},
   "outputs": [
    {
     "data": {
      "text/plain": [
       "126"
      ]
     },
     "execution_count": 8,
     "metadata": {},
     "output_type": "execute_result"
    }
   ],
   "source": [
    "math.comb(9, 5)"
   ]
  },
  {
   "cell_type": "markdown",
   "id": "2418a048",
   "metadata": {},
   "source": [
    "This is because with 9 cups, we are segregating them into groups of 4 and 5. 4 with the milk in first and 5 with the tea in first or vice versa. So 9 choose 4 is the same as 9 choose 5 because of the way that the 2 groups of cups are separated."
   ]
  },
  {
   "cell_type": "markdown",
   "id": "8b9f0078",
   "metadata": {},
   "source": [
    "\n",
    "### *Bonus Question:* How many would be required if you were to let the taster get one cup wrong while maintaining the 1% threshold?"
   ]
  },
  {
   "cell_type": "markdown",
   "id": "b34ba1af",
   "metadata": {},
   "source": [
    "As per above, the number of ways of selecting 4 cups from 8 is:"
   ]
  },
  {
   "cell_type": "code",
   "execution_count": 9,
   "id": "4564c948",
   "metadata": {},
   "outputs": [
    {
     "data": {
      "text/plain": [
       "70"
      ]
     },
     "execution_count": 9,
     "metadata": {},
     "output_type": "execute_result"
    }
   ],
   "source": [
    "math.comb(8, 4)"
   ]
  },
  {
   "cell_type": "markdown",
   "id": "c620e666",
   "metadata": {},
   "source": [
    "For the lady to get all 4 cups correct, there is clearly only one set of four choices (namely, choosing all four correct cups). This is where the 1 comes from in the numerator:"
   ]
  },
  {
   "cell_type": "code",
   "execution_count": 10,
   "id": "5c8ae702",
   "metadata": {},
   "outputs": [
    {
     "data": {
      "text/plain": [
       "0.014285714285714285"
      ]
     },
     "execution_count": 10,
     "metadata": {},
     "output_type": "execute_result"
    }
   ],
   "source": [
    "1.0/70.0"
   ]
  },
  {
   "cell_type": "markdown",
   "id": "55b9ab33",
   "metadata": {},
   "source": [
    "But to allow the lady to get one cup wrong, the sets of for choices are 4 choose 3 and 4 choose 1. "
   ]
  },
  {
   "cell_type": "code",
   "execution_count": 11,
   "id": "2abb6e9a",
   "metadata": {},
   "outputs": [
    {
     "data": {
      "text/plain": [
       "4"
      ]
     },
     "execution_count": 11,
     "metadata": {},
     "output_type": "execute_result"
    }
   ],
   "source": [
    "math.comb(4, 3)"
   ]
  },
  {
   "cell_type": "code",
   "execution_count": 12,
   "id": "d0f27157",
   "metadata": {},
   "outputs": [
    {
     "data": {
      "text/plain": [
       "4"
      ]
     },
     "execution_count": 12,
     "metadata": {},
     "output_type": "execute_result"
    }
   ],
   "source": [
    "math.comb(4, 1)"
   ]
  },
  {
   "cell_type": "markdown",
   "id": "a2da4cf1",
   "metadata": {},
   "source": [
    "Thus a selection of any one correct cup and any three correct cups can occur in any of 4×4 = 16 ways. [03]"
   ]
  },
  {
   "cell_type": "code",
   "execution_count": null,
   "id": "f8bd9f0f",
   "metadata": {},
   "outputs": [],
   "source": []
  },
  {
   "cell_type": "code",
   "execution_count": 13,
   "id": "3badac4e",
   "metadata": {},
   "outputs": [
    {
     "data": {
      "text/plain": [
       "0.22857142857142856"
      ]
     },
     "execution_count": 13,
     "metadata": {},
     "output_type": "execute_result"
    }
   ],
   "source": [
    "16.0/70.0"
   ]
  },
  {
   "cell_type": "markdown",
   "id": "3ad1ea0d",
   "metadata": {},
   "source": [
    "Therefore, the lady has a greater than 20% chance to get 3/4 cups correct. For the lady to get one cup wrong while maintaining the 1% threshold, the number of cups would have to be increased in the experiment. Let's try with 10 cups overall.[03]"
   ]
  },
  {
   "cell_type": "code",
   "execution_count": 14,
   "id": "3ebdbeeb",
   "metadata": {},
   "outputs": [
    {
     "data": {
      "text/plain": [
       "252"
      ]
     },
     "execution_count": 14,
     "metadata": {},
     "output_type": "execute_result"
    }
   ],
   "source": [
    "math.comb(10, 5)"
   ]
  },
  {
   "cell_type": "markdown",
   "id": "c3500516",
   "metadata": {},
   "source": [
    "To allow the lady to get one cup wrong, the sets of for choices are 5 choose 4 and 5 choose 1. "
   ]
  },
  {
   "cell_type": "code",
   "execution_count": 15,
   "id": "b826710e",
   "metadata": {},
   "outputs": [
    {
     "data": {
      "text/plain": [
       "5"
      ]
     },
     "execution_count": 15,
     "metadata": {},
     "output_type": "execute_result"
    }
   ],
   "source": [
    "math.comb(5, 4)"
   ]
  },
  {
   "cell_type": "code",
   "execution_count": 16,
   "id": "884a9c34",
   "metadata": {},
   "outputs": [
    {
     "data": {
      "text/plain": [
       "5"
      ]
     },
     "execution_count": 16,
     "metadata": {},
     "output_type": "execute_result"
    }
   ],
   "source": [
    "math.comb(5, 1)"
   ]
  },
  {
   "cell_type": "markdown",
   "id": "54163c7c",
   "metadata": {},
   "source": [
    "Thus a selection of any one correct cup and any four correct cups can occur in any of 5×5 = 25 ways. [03]"
   ]
  },
  {
   "cell_type": "code",
   "execution_count": 17,
   "id": "9c19522e",
   "metadata": {},
   "outputs": [
    {
     "data": {
      "text/plain": [
       "0.0992063492063492"
      ]
     },
     "execution_count": 17,
     "metadata": {},
     "output_type": "execute_result"
    }
   ],
   "source": [
    "25.0/252.0"
   ]
  },
  {
   "cell_type": "markdown",
   "id": "9b0934d4",
   "metadata": {},
   "source": [
    "The lady has less than a 1% chance to get 4/5 cups correct."
   ]
  },
  {
   "cell_type": "markdown",
   "id": "621fc871",
   "metadata": {},
   "source": [
    "## Part 2\n",
    "\n",
    "***"
   ]
  },
  {
   "cell_type": "markdown",
   "id": "d40d0695",
   "metadata": {},
   "source": [
    "### Use <a href=\"https://docs.scipy.org/doc/scipy/reference/generated/scipy.stats.fisher_exact.html\" style=\"color: #ff791e\">scipy's version of Fisher's exact test</a> to simulate the Lady Tasting Tea problem.\n",
    "***"
   ]
  },
  {
   "cell_type": "markdown",
   "id": "3950bba7",
   "metadata": {},
   "source": [
    "Scipy's version of Fisher's exact test is a scipy method that performs a Fisher exact test on a 2x2 contingency table. A contingency table displays frequencies for combinations of two categorical variables. They can also be refered to as crosstabulation and two-way tables. Contingency tables classify outcomes for one variable in rows and the other in columns. The values at the row and column intersections are frequencies for each unique combination of the two variables. [06]<br>\n",
    "So, for the lady tea tasting experiment, for the lady to guess all four cups correctly, The below contingency table (table 1) illustrates `scipy.stats.fisher_exact`."
   ]
  },
  {
   "cell_type": "markdown",
   "id": "efc0fa96",
   "metadata": {},
   "source": [
    "|| Actual Tea | Actual Milk |\n",
    "| :- | -: | :-: |\n",
    "| Selected Tea | 4 | 0|\n",
    "| Selected Milk | 0 | 4|"
   ]
  },
  {
   "cell_type": "markdown",
   "id": "f00af44c",
   "metadata": {},
   "source": [
    "<div align=\"center\"><b>Table 1:</b> contingency table for the lady to select 4/4 correct cups.[04]</div>"
   ]
  },
  {
   "cell_type": "markdown",
   "id": "80e94a21",
   "metadata": {},
   "source": [
    "The 'Actual Tea' refers to the tea with the tea in first and is the correct answer. 'The Actual Milk' refers to the tea with the milk in first and is the correct answer. The 'Selected Tea' refers to the tea with the tea in first that the lady selects. The 'Selected Milk' refers to the tea with the milk in first that the lady selects. <br>\n"
   ]
  },
  {
   "cell_type": "markdown",
   "id": "0fbe1755",
   "metadata": {},
   "source": [
    "`scipy.stats.fisher_exact` takes in 2 paramaters. 'Table', which is a 2x2 contingency table and 'alternative' which needs to be explored below. Let's start by importing scipy statistical methods."
   ]
  },
  {
   "cell_type": "code",
   "execution_count": 18,
   "id": "09dfea81",
   "metadata": {},
   "outputs": [],
   "source": [
    "# Statistical methods.\n",
    "import scipy.stats as ss"
   ]
  },
  {
   "cell_type": "code",
   "execution_count": 19,
   "id": "a8c31a6e",
   "metadata": {},
   "outputs": [
    {
     "data": {
      "text/plain": [
       "<function scipy.stats.stats.fisher_exact(table, alternative='two-sided')>"
      ]
     },
     "execution_count": 19,
     "metadata": {},
     "output_type": "execute_result"
    }
   ],
   "source": [
    "ss.fisher_exact"
   ]
  },
  {
   "cell_type": "markdown",
   "id": "e0b64fef",
   "metadata": {},
   "source": [
    "We can see from the above code that the default of the parameter 'alternative' is 'two sided'. Let's insert the contingency table for the lady to guess 4 cups correctly as the first parameter in `scipy.stats.fisher_exact`"
   ]
  },
  {
   "cell_type": "code",
   "execution_count": 20,
   "id": "80aafbdd",
   "metadata": {
    "scrolled": true
   },
   "outputs": [
    {
     "data": {
      "text/plain": [
       "(inf, 0.028571428571428536)"
      ]
     },
     "execution_count": 20,
     "metadata": {},
     "output_type": "execute_result"
    }
   ],
   "source": [
    "ss.fisher_exact([[4, 0], [0, 4]])"
   ]
  },
  {
   "cell_type": "markdown",
   "id": "7e8bae11",
   "metadata": {},
   "source": [
    "The answer looks to be 2 times the value that we got from using `math.comb()` from the first section of this notebook."
   ]
  },
  {
   "cell_type": "code",
   "execution_count": 21,
   "id": "043a9818",
   "metadata": {},
   "outputs": [
    {
     "data": {
      "text/plain": [
       "0.02857142857142857"
      ]
     },
     "execution_count": 21,
     "metadata": {},
     "output_type": "execute_result"
    }
   ],
   "source": [
    "# Answer from section one multiplied by 2.\n",
    "0.014285714285714285 * 2"
   ]
  },
  {
   "cell_type": "markdown",
   "id": "032655dc",
   "metadata": {},
   "source": [
    "To explore this, I changed the default parameters as seen below:"
   ]
  },
  {
   "cell_type": "code",
   "execution_count": 22,
   "id": "8499b8a8",
   "metadata": {},
   "outputs": [
    {
     "data": {
      "text/plain": [
       "(inf, 1.0)"
      ]
     },
     "execution_count": 22,
     "metadata": {},
     "output_type": "execute_result"
    }
   ],
   "source": [
    "ss.fisher_exact([[4, 0], [0, 4]], alternative = 'less')"
   ]
  },
  {
   "cell_type": "code",
   "execution_count": 23,
   "id": "8c0cdb74",
   "metadata": {},
   "outputs": [
    {
     "data": {
      "text/plain": [
       "(inf, 0.014285714285714268)"
      ]
     },
     "execution_count": 23,
     "metadata": {},
     "output_type": "execute_result"
    }
   ],
   "source": [
    "ss.fisher_exact([[4, 0], [0, 4]], alternative = 'greater')"
   ]
  },
  {
   "cell_type": "markdown",
   "id": "a127c5f5",
   "metadata": {},
   "source": [
    "It seems that when the 'alternative' parameter is changed to 'greater', we are getting the target answer that was confirmed in the first section."
   ]
  },
  {
   "cell_type": "markdown",
   "id": "744d1bf0",
   "metadata": {},
   "source": [
    "The first value returned is called the oddsratio and the second value returned is the p-value which the probability. <br>\n",
    "Let's first define the oddsratio to better understand this."
   ]
  },
  {
   "cell_type": "markdown",
   "id": "d28dc877",
   "metadata": {},
   "source": [
    "|Column 1| Column 2 |\n",
    "| :- | -: | \n",
    "| a | b |\n",
    "| c | d | "
   ]
  },
  {
   "cell_type": "markdown",
   "id": "db530be5",
   "metadata": {},
   "source": [
    "<div align=\"center\"><b>Table 2:</b> Generic contingency table.</div>"
   ]
  },
  {
   "cell_type": "markdown",
   "id": "3eb770c1",
   "metadata": {},
   "source": [
    "The odds ratio is calculated directly from the table (table 2):\n",
    "<br>\n",
    "$$Odds ratio = \\frac{\\frac{a}{b}}{\\frac{c}{d}} = \\frac{ad}{bc}$$<br>\n",
    "<br>"
   ]
  },
  {
   "cell_type": "markdown",
   "id": "03fd32c7",
   "metadata": {},
   "source": [
    "This explains why we see inf in this case. It happens when either of the letters are 0.[07]"
   ]
  },
  {
   "cell_type": "code",
   "execution_count": 24,
   "id": "333ef23c",
   "metadata": {},
   "outputs": [
    {
     "data": {
      "text/plain": [
       "(9.0, 0.24285714285714263)"
      ]
     },
     "execution_count": 24,
     "metadata": {},
     "output_type": "execute_result"
    }
   ],
   "source": [
    "ss.fisher_exact([[3, 1], [1, 3]], alternative = 'greater')"
   ]
  },
  {
   "cell_type": "markdown",
   "id": "802b0b13",
   "metadata": {},
   "source": [
    "We can see above that when we use non-zero numbers in the table that the odds ration is an integer."
   ]
  },
  {
   "cell_type": "markdown",
   "id": "df403958",
   "metadata": {},
   "source": [
    "Going back to the alternative 'parameter', there are two types of alternative. Two-sided and one-sided. The two types of one-sided are 'less' and 'greater'. [07] They are also sometimes known as left and right tailed. A 'Two-sided' Fisher’s Exact Test is when the null hypothesis odds ratio is equal to 1 and the alternative hypothesis is not equal to 1. A 'Less' Fisher’s Exact Test is when the null hypothesis odds ratio is greater than or equal to 1 and the alternative hypothesis is less than 1. A 'Greater' Fisher’s Exact Test is when the null hypothesis odds ratio is less than or equal to 1 and the alternative hypothesis is greater than 1. See the below summary of alternatives[07]:"
   ]
  },
  {
   "cell_type": "markdown",
   "id": "a19bd674",
   "metadata": {},
   "source": [
    "**Two-sided Fisher’s Exact Test:**<br>\n",
    "ho: The odds ratio is equal to 1<br>\n",
    "ha: The odds ratio is not equal to 1<br>\n",
    "**“Less” Fisher’s Exact Test:**<br>\n",
    "ho: The odds ratio ≥ 1<br>\n",
    "ha: The odds ratio is <1<br>\n",
    "**“Greater” Fisher’s Exact Test:**<br>\n",
    "ho: The odds ratio is ≤1<br>\n",
    "ha: The odds ratio is > 1<br>"
   ]
  },
  {
   "cell_type": "markdown",
   "id": "6a0fe8b1",
   "metadata": {},
   "source": [
    "This means that for the lady to get all cups correct and for the experiment to have the same result as using `math.comb()` as in section one, the alternative hypothesis must be that the odds ratio is greater than 1."
   ]
  },
  {
   "cell_type": "markdown",
   "id": "ec1de116",
   "metadata": {},
   "source": [
    "***\n",
    "\n",
    "## References\n",
    "\n",
    "***"
   ]
  },
  {
   "cell_type": "markdown",
   "id": "517842a9",
   "metadata": {},
   "source": [
    "[01][python-programs.com - Python math.comb() Method with Examples](https://python-programs.com/python-math-comb-method-with-examples/)<br>\n",
    "[02][handwiki.org - Lady Tasting Tea](https://handwiki.org/wiki/Lady_tasting_tea)<br>\n",
    "[03][Wikipedia - Lady tasting tea](https://en.wikipedia.org/wiki/Lady_tasting_tea)<br>\n",
    "[04][Tables in Markdown (in Jupyter)](https://stackoverflow.com/questions/48655801/tables-in-markdown-in-jupyter)<br>\n",
    "[05][docs.scipy.org - scipy.stats.fisher_exact](https://docs.scipy.org/doc/scipy/reference/generated/scipy.stats.fisher_exact.html)<br>\n",
    "[06][statisticsbyjim.com - Contingency Table: Definition, Examples & Interpreting](https://statisticsbyjim.com/basics/contingency-table/)<br>\n",
    "[07][towardsdatascience.com - Fully Mastering Fisher’s Exact Test for A/B Testing](https://towardsdatascience.com/fishers-exact-fb49432e55b5)<br>"
   ]
  }
 ],
 "metadata": {
  "kernelspec": {
   "display_name": "Python 3 (ipykernel)",
   "language": "python",
   "name": "python3"
  },
  "language_info": {
   "codemirror_mode": {
    "name": "ipython",
    "version": 3
   },
   "file_extension": ".py",
   "mimetype": "text/x-python",
   "name": "python",
   "nbconvert_exporter": "python",
   "pygments_lexer": "ipython3",
   "version": "3.9.4"
  }
 },
 "nbformat": 4,
 "nbformat_minor": 5
}
